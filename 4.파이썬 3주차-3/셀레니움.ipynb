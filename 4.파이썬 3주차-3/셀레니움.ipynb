{
 "cells": [
  {
   "cell_type": "code",
   "execution_count": 8,
   "id": "63e1ad12",
   "metadata": {},
   "outputs": [],
   "source": [
    "# 셀레니움 웹 크롤링에 필요한 라이브러리를 불러옵니다\n",
    "import sys\n",
    "from selenium import webdriver\n",
    "from selenium.webdriver.common.keys import Keys"
   ]
  },
  {
   "cell_type": "code",
   "execution_count": 9,
   "id": "9d45d173",
   "metadata": {},
   "outputs": [],
   "source": [
    "# 웹 브라우저(크롬)를 자동으로 켜기 위한 설정입니다\n",
    "driver = webdriver.Chrome()"
   ]
  },
  {
   "cell_type": "code",
   "execution_count": 10,
   "id": "0492d317",
   "metadata": {},
   "outputs": [
    {
     "name": "stdout",
     "output_type": "stream",
     "text": [
      "None\n"
     ]
    }
   ],
   "source": [
    "# 질병관리청 코로나19 정보 페이지를 엽니다\n",
    "url = 'http://ncov.kdca.go.kr/'\n",
    "ncov = driver.get(url)  # 웹 페이지를 엽니다 (None이 출력되는 건 정상입니다)\n",
    "print(ncov)"
   ]
  },
  {
   "cell_type": "code",
   "execution_count": 11,
   "id": "908680bb",
   "metadata": {},
   "outputs": [
    {
     "ename": "NoSuchElementException",
     "evalue": "Message: no such element: Unable to locate element: {\"method\":\"xpath\",\"selector\":\"//*[@id=\"tab_list\"]/ul/li[1]/ul/li/li/div/a[1]\"}\n  (Session info: chrome=135.0.7049.96); For documentation on this error, please visit: https://www.selenium.dev/documentation/webdriver/troubleshooting/errors#no-such-element-exception\nStacktrace:\n\tGetHandleVerifier [0x00007FF61B885355+78597]\n\tGetHandleVerifier [0x00007FF61B8853B0+78688]\n\t(No symbol) [0x00007FF61B6391AA]\n\t(No symbol) [0x00007FF61B68F149]\n\t(No symbol) [0x00007FF61B68F3FC]\n\t(No symbol) [0x00007FF61B6E2467]\n\t(No symbol) [0x00007FF61B6B712F]\n\t(No symbol) [0x00007FF61B6DF2BB]\n\t(No symbol) [0x00007FF61B6B6EC3]\n\t(No symbol) [0x00007FF61B6803F8]\n\t(No symbol) [0x00007FF61B681163]\n\tGetHandleVerifier [0x00007FF61BB2EF0D+2870973]\n\tGetHandleVerifier [0x00007FF61BB296B8+2848360]\n\tGetHandleVerifier [0x00007FF61BB46993+2967875]\n\tGetHandleVerifier [0x00007FF61B8A019A+188746]\n\tGetHandleVerifier [0x00007FF61B8A847F+222255]\n\tGetHandleVerifier [0x00007FF61B88D2D4+111236]\n\tGetHandleVerifier [0x00007FF61B88D482+111666]\n\tGetHandleVerifier [0x00007FF61B8735A9+5465]\n\tBaseThreadInitThunk [0x00007FF9C153E8D7+23]\n\tRtlUserThreadStart [0x00007FF9C28714FC+44]\n",
     "output_type": "error",
     "traceback": [
      "\u001b[1;31m---------------------------------------------------------------------------\u001b[0m",
      "\u001b[1;31mNoSuchElementException\u001b[0m                    Traceback (most recent call last)",
      "Cell \u001b[1;32mIn[11], line 2\u001b[0m\n\u001b[0;32m      1\u001b[0m \u001b[38;5;66;03m# XPath를 사용해 웹사이트에서 '감염병 주요뉴스' 텍스트를 포함한 요소를 찾습니다\u001b[39;00m\n\u001b[1;32m----> 2\u001b[0m topnews \u001b[38;5;241m=\u001b[39m driver\u001b[38;5;241m.\u001b[39mfind_element(\u001b[38;5;124m'\u001b[39m\u001b[38;5;124mxpath\u001b[39m\u001b[38;5;124m'\u001b[39m, \u001b[38;5;124m'\u001b[39m\u001b[38;5;124m//*[@id=\u001b[39m\u001b[38;5;124m\"\u001b[39m\u001b[38;5;124mtab_list\u001b[39m\u001b[38;5;124m\"\u001b[39m\u001b[38;5;124m]/ul/li[1]/ul/li/li/div/a[1]\u001b[39m\u001b[38;5;124m'\u001b[39m)\n\u001b[0;32m      3\u001b[0m \u001b[38;5;28mprint\u001b[39m(topnews\u001b[38;5;241m.\u001b[39mtext)\n",
      "File \u001b[1;32mc:\\Users\\user\\anaconda3\\envs\\py312tf2\\Lib\\site-packages\\selenium\\webdriver\\remote\\webdriver.py:898\u001b[0m, in \u001b[0;36mWebDriver.find_element\u001b[1;34m(self, by, value)\u001b[0m\n\u001b[0;32m    895\u001b[0m         \u001b[38;5;28;01mraise\u001b[39;00m NoSuchElementException(\u001b[38;5;124mf\u001b[39m\u001b[38;5;124m\"\u001b[39m\u001b[38;5;124mCannot locate relative element with: \u001b[39m\u001b[38;5;132;01m{\u001b[39;00mby\u001b[38;5;241m.\u001b[39mroot\u001b[38;5;132;01m}\u001b[39;00m\u001b[38;5;124m\"\u001b[39m)\n\u001b[0;32m    896\u001b[0m     \u001b[38;5;28;01mreturn\u001b[39;00m elements[\u001b[38;5;241m0\u001b[39m]\n\u001b[1;32m--> 898\u001b[0m \u001b[38;5;28;01mreturn\u001b[39;00m \u001b[38;5;28mself\u001b[39m\u001b[38;5;241m.\u001b[39mexecute(Command\u001b[38;5;241m.\u001b[39mFIND_ELEMENT, {\u001b[38;5;124m\"\u001b[39m\u001b[38;5;124musing\u001b[39m\u001b[38;5;124m\"\u001b[39m: by, \u001b[38;5;124m\"\u001b[39m\u001b[38;5;124mvalue\u001b[39m\u001b[38;5;124m\"\u001b[39m: value})[\u001b[38;5;124m\"\u001b[39m\u001b[38;5;124mvalue\u001b[39m\u001b[38;5;124m\"\u001b[39m]\n",
      "File \u001b[1;32mc:\\Users\\user\\anaconda3\\envs\\py312tf2\\Lib\\site-packages\\selenium\\webdriver\\remote\\webdriver.py:429\u001b[0m, in \u001b[0;36mWebDriver.execute\u001b[1;34m(self, driver_command, params)\u001b[0m\n\u001b[0;32m    427\u001b[0m response \u001b[38;5;241m=\u001b[39m \u001b[38;5;28mself\u001b[39m\u001b[38;5;241m.\u001b[39mcommand_executor\u001b[38;5;241m.\u001b[39mexecute(driver_command, params)\n\u001b[0;32m    428\u001b[0m \u001b[38;5;28;01mif\u001b[39;00m response:\n\u001b[1;32m--> 429\u001b[0m     \u001b[38;5;28mself\u001b[39m\u001b[38;5;241m.\u001b[39merror_handler\u001b[38;5;241m.\u001b[39mcheck_response(response)\n\u001b[0;32m    430\u001b[0m     response[\u001b[38;5;124m\"\u001b[39m\u001b[38;5;124mvalue\u001b[39m\u001b[38;5;124m\"\u001b[39m] \u001b[38;5;241m=\u001b[39m \u001b[38;5;28mself\u001b[39m\u001b[38;5;241m.\u001b[39m_unwrap_value(response\u001b[38;5;241m.\u001b[39mget(\u001b[38;5;124m\"\u001b[39m\u001b[38;5;124mvalue\u001b[39m\u001b[38;5;124m\"\u001b[39m, \u001b[38;5;28;01mNone\u001b[39;00m))\n\u001b[0;32m    431\u001b[0m     \u001b[38;5;28;01mreturn\u001b[39;00m response\n",
      "File \u001b[1;32mc:\\Users\\user\\anaconda3\\envs\\py312tf2\\Lib\\site-packages\\selenium\\webdriver\\remote\\errorhandler.py:232\u001b[0m, in \u001b[0;36mErrorHandler.check_response\u001b[1;34m(self, response)\u001b[0m\n\u001b[0;32m    230\u001b[0m         alert_text \u001b[38;5;241m=\u001b[39m value[\u001b[38;5;124m\"\u001b[39m\u001b[38;5;124malert\u001b[39m\u001b[38;5;124m\"\u001b[39m]\u001b[38;5;241m.\u001b[39mget(\u001b[38;5;124m\"\u001b[39m\u001b[38;5;124mtext\u001b[39m\u001b[38;5;124m\"\u001b[39m)\n\u001b[0;32m    231\u001b[0m     \u001b[38;5;28;01mraise\u001b[39;00m exception_class(message, screen, stacktrace, alert_text)  \u001b[38;5;66;03m# type: ignore[call-arg]  # mypy is not smart enough here\u001b[39;00m\n\u001b[1;32m--> 232\u001b[0m \u001b[38;5;28;01mraise\u001b[39;00m exception_class(message, screen, stacktrace)\n",
      "\u001b[1;31mNoSuchElementException\u001b[0m: Message: no such element: Unable to locate element: {\"method\":\"xpath\",\"selector\":\"//*[@id=\"tab_list\"]/ul/li[1]/ul/li/li/div/a[1]\"}\n  (Session info: chrome=135.0.7049.96); For documentation on this error, please visit: https://www.selenium.dev/documentation/webdriver/troubleshooting/errors#no-such-element-exception\nStacktrace:\n\tGetHandleVerifier [0x00007FF61B885355+78597]\n\tGetHandleVerifier [0x00007FF61B8853B0+78688]\n\t(No symbol) [0x00007FF61B6391AA]\n\t(No symbol) [0x00007FF61B68F149]\n\t(No symbol) [0x00007FF61B68F3FC]\n\t(No symbol) [0x00007FF61B6E2467]\n\t(No symbol) [0x00007FF61B6B712F]\n\t(No symbol) [0x00007FF61B6DF2BB]\n\t(No symbol) [0x00007FF61B6B6EC3]\n\t(No symbol) [0x00007FF61B6803F8]\n\t(No symbol) [0x00007FF61B681163]\n\tGetHandleVerifier [0x00007FF61BB2EF0D+2870973]\n\tGetHandleVerifier [0x00007FF61BB296B8+2848360]\n\tGetHandleVerifier [0x00007FF61BB46993+2967875]\n\tGetHandleVerifier [0x00007FF61B8A019A+188746]\n\tGetHandleVerifier [0x00007FF61B8A847F+222255]\n\tGetHandleVerifier [0x00007FF61B88D2D4+111236]\n\tGetHandleVerifier [0x00007FF61B88D482+111666]\n\tGetHandleVerifier [0x00007FF61B8735A9+5465]\n\tBaseThreadInitThunk [0x00007FF9C153E8D7+23]\n\tRtlUserThreadStart [0x00007FF9C28714FC+44]\n"
     ]
    }
   ],
   "source": [
    "# XPath를 사용해 웹사이트에서 '감염병 주요뉴스' 텍스트를 포함한 요소를 찾습니다\n",
    "topnews = driver.find_element('xpath', '//*[@id=\"tab_list\"]/ul/li[1]/ul/li/li/div/a[1]')\n",
    "print(topnews.text)  # 해당 뉴스 제목을 출력합니다"
   ]
  },
  {
   "cell_type": "code",
   "execution_count": null,
   "id": "9b15f882",
   "metadata": {},
   "outputs": [],
   "source": []
  },
  {
   "cell_type": "code",
   "execution_count": null,
   "id": "02f3e463",
   "metadata": {},
   "outputs": [],
   "source": []
  },
  {
   "cell_type": "code",
   "execution_count": null,
   "id": "dd784322",
   "metadata": {},
   "outputs": [],
   "source": []
  }
 ],
 "metadata": {
  "kernelspec": {
   "display_name": "py312tf2",
   "language": "python",
   "name": "python3"
  },
  "language_info": {
   "codemirror_mode": {
    "name": "ipython",
    "version": 3
   },
   "file_extension": ".py",
   "mimetype": "text/x-python",
   "name": "python",
   "nbconvert_exporter": "python",
   "pygments_lexer": "ipython3",
   "version": "3.12.9"
  }
 },
 "nbformat": 4,
 "nbformat_minor": 5
}
