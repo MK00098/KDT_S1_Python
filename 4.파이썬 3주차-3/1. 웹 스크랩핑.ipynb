{
 "cells": [
  {
   "cell_type": "markdown",
   "id": "bfe956c5-ff47-4c45-af87-bf66375eaec4",
   "metadata": {},
   "source": [
    "### 웹 스크랩핑"
   ]
  },
  {
   "cell_type": "markdown",
   "id": "fda22cc5",
   "metadata": {},
   "source": [
    "# 안녕하세요\n",
    "## 안녕하세요\n",
    "### 안녕하세요\n",
    "#### 안녕하세요\n",
    "##### 안녕하세요"
   ]
  },
  {
   "cell_type": "code",
   "execution_count": null,
   "id": "a0caa429-92ba-4001-9a80-69736da78fec",
   "metadata": {},
   "outputs": [],
   "source": [
    "from lxml import html  # lxml은 HTML/XML 문서를 파싱하고 탐색할 수 있게 해주는 라이브러리야"
   ]
  },
  {
   "cell_type": "code",
   "execution_count": null,
   "id": "e6df078f-f3a2-4867-8f5e-75acee4480ab",
   "metadata": {},
   "outputs": [],
   "source": [
    "# HTML 문서 파싱\n",
    "html_content = \"\"\"\n",
    "<html>\n",
    "    <head>\n",
    "        <title>\n",
    "           <h1> 웹 스크랩핑 </h1>\n",
    "        </title>\n",
    "    </head>\n",
    "    <body>\n",
    "         <div>\n",
    "             <h2>웹 스크랩핑 연습</h2>\n",
    "             <p class=\"intro\">이것은 예제 문서입니다.</p>\n",
    "             <ul>\n",
    "               <li>python</li>\n",
    "               <li>XPath</li>\n",
    "               <li>HTML</li>\n",
    "             </ul>\n",
    "             <a href=\"https://example.com\" class=\"link\">Example</a>\n",
    "         </div>\n",
    "    </body>\n",
    "</html>\n",
    "\"\"\" # 웹 문서처럼 생긴 HTML 문자열이야. 이후 이걸 파싱해서 필요한 데이터를 뽑을 거야."
   ]
  },
  {
   "cell_type": "code",
   "execution_count": null,
   "id": "05ad18f0-a95d-4358-9f8f-6410aa900954",
   "metadata": {},
   "outputs": [
    {
     "name": "stdout",
     "output_type": "stream",
     "text": [
      "\n",
      "<html>\n",
      "    <head>\n",
      "        <title>\n",
      "           <h1> 웹 스크랩핑 </h1>\n",
      "        </title>\n",
      "    </head>\n",
      "    <body>\n",
      "         <div>\n",
      "             <h2>웹 스크랩핑 연습</h2>\n",
      "             <p class=\"intro\">이것은 예제 문서입니다.</p>\n",
      "             <ul>\n",
      "               <li>python</li>\n",
      "               <li>XPath</li>\n",
      "               <li>HTML</li>\n",
      "             </ul>\n",
      "             <a href=\"https://example.com\" class=\"link\">Example</a>\n",
      "         </div>\n",
      "    </body>\n",
      "</html>\n",
      "\n"
     ]
    }
   ],
   "source": [
    "print(html_content)  # 위에서 정의한 HTML 문서를 콘솔에 출력해서 확인해보는 코드야"
   ]
  },
  {
   "cell_type": "code",
   "execution_count": null,
   "id": "b54008c6-a7b1-40b0-a6f1-955d009100a0",
   "metadata": {},
   "outputs": [
    {
     "name": "stdout",
     "output_type": "stream",
     "text": [
      "<Element html at 0x1e1e2fbd900>\n"
     ]
    }
   ],
   "source": [
    "tree = html.fromstring(html_content)  # 문자열로 되어 있던 HTML을 트리 구조로 변환해서 탐색할 수 있게 해줘\n",
    "print(tree)  # 트리 객체를 출력해봐. (출력은 실제 트리 내용이 보이진 않아도 객체가 생성됐는지 확인 가능)"
   ]
  },
  {
   "cell_type": "code",
   "execution_count": 9,
   "id": "0556626d",
   "metadata": {},
   "outputs": [
    {
     "name": "stdout",
     "output_type": "stream",
     "text": [
      "[' 웹 스크랩핑 ']\n"
     ]
    }
   ],
   "source": [
    "title = tree.xpath('//h1/text()')  # XPath를 이용해서 h1 태그 안에 있는 텍스트만 추출해\n",
    "print(title)  # [' 웹 스크랩핑 '] 처럼 리스트로 출력될 거야"
   ]
  },
  {
   "cell_type": "code",
   "execution_count": 10,
   "id": "302fdea9-0271-4cf9-849d-8180b67155c9",
   "metadata": {},
   "outputs": [
    {
     "name": "stdout",
     "output_type": "stream",
     "text": [
      "['이것은 예제 문서입니다.']\n"
     ]
    }
   ],
   "source": [
    "paragraph = tree.xpath('//p[@class=\"intro\"]/text()')  # class가 intro인 p 태그의 텍스트만 가져와\n",
    "print(paragraph)  # ['이것은 예제 문서입니다.']"
   ]
  },
  {
   "cell_type": "code",
   "execution_count": 11,
   "id": "665817c4-fa8c-4e8c-bd33-47d574550943",
   "metadata": {},
   "outputs": [
    {
     "name": "stdout",
     "output_type": "stream",
     "text": [
      "['python']\n"
     ]
    }
   ],
   "source": [
    "first_item = tree.xpath('//ul/li[1]/text()')  # ul 안의 첫 번째 li 태그의 텍스트를 가져와\n",
    "print(first_item)  # ['python']"
   ]
  },
  {
   "cell_type": "code",
   "execution_count": 12,
   "id": "6d80583b-4b7a-4a03-a0b6-0bc726bbb478",
   "metadata": {},
   "outputs": [
    {
     "name": "stdout",
     "output_type": "stream",
     "text": [
      "['https://example.com']\n"
     ]
    }
   ],
   "source": [
    "link = tree.xpath('//a[@class=\"link\"]/@href')  # class가 link인 a 태그의 href 속성 값(주소)을 가져와\n",
    "print(link)  # ['https://example.com']"
   ]
  },
  {
   "cell_type": "markdown",
   "id": "4c6535bb-baf4-4ae2-9a4f-14ac03603822",
   "metadata": {},
   "source": [
    "### 웹 스크래핑 준비 사항"
   ]
  },
  {
   "cell_type": "code",
   "execution_count": 13,
   "id": "5005a015-45ad-4b0f-a4ad-bbc47a362697",
   "metadata": {},
   "outputs": [],
   "source": [
    "# 라이브러리  import\n",
    "from selenium import webdriver\n",
    "from selenium.webdriver.common.by import By"
   ]
  },
  {
   "cell_type": "code",
   "execution_count": 16,
   "id": "dd099b51-fb83-4445-87c5-fdd4df98c1df",
   "metadata": {},
   "outputs": [],
   "source": [
    "# Chrome 브라우저를 실행시키고 특정 사이트에 접속하는 코드야\n",
    "driver = webdriver.Chrome()  # 크롬 드라이버를 통해 브라우저 실행\n",
    "driver.get('https://example.com')  # 해당 URL로 접속"
   ]
  },
  {
   "cell_type": "code",
   "execution_count": 17,
   "id": "d52a5b63-19a8-4aa3-ad92-4efef2d1ff90",
   "metadata": {},
   "outputs": [
    {
     "name": "stdout",
     "output_type": "stream",
     "text": [
      "Element Text:  Example Domain\n"
     ]
    }
   ],
   "source": [
    "element = driver.find_element(By.XPATH, '//h1')  # 웹페이지에서 h1 태그를 가진 요소를 찾아\n",
    "print('Element Text: ', element.text)  # 그 요소 안의 텍스트를 출력해"
   ]
  },
  {
   "cell_type": "code",
   "execution_count": 18,
   "id": "d60f9860-cff0-4349-b62c-3b5814d5ee28",
   "metadata": {},
   "outputs": [],
   "source": [
    "driver.quit()"
   ]
  },
  {
   "cell_type": "markdown",
   "id": "41e48ed8-a5a7-4bea-8979-f9e4eaab0dfb",
   "metadata": {},
   "source": [
    "### Requests"
   ]
  },
  {
   "cell_type": "code",
   "execution_count": 19,
   "id": "2f2078ba-bc0f-461e-9c1b-1d0cc529662a",
   "metadata": {},
   "outputs": [],
   "source": [
    "import requests  # HTTP 요청을 보내기 위한 라이브러리야 (크롤링에 자주 사용돼)"
   ]
  },
  {
   "cell_type": "code",
   "execution_count": 20,
   "id": "4a7fb2c7-105b-459f-81ad-01f0b59e3e8d",
   "metadata": {},
   "outputs": [
    {
     "name": "stdout",
     "output_type": "stream",
     "text": [
      "응답 코드 :  200\n"
     ]
    }
   ],
   "source": [
    "url = 'https://www.naver.com'\n",
    "response = requests.get(url)  # 지정한 URL로 GET 요청을 보냄\n",
    "print('응답 코드 : ', response.status_code)  # 200이면 정상 응답, 404는 페이지 없음"
   ]
  },
  {
   "cell_type": "code",
   "execution_count": 21,
   "id": "4a1157d7-f4be-4a5a-ab91-2b4d0cb68a98",
   "metadata": {},
   "outputs": [
    {
     "name": "stdout",
     "output_type": "stream",
     "text": [
      "정상입니다\n"
     ]
    }
   ],
   "source": [
    "if response.status_code == requests.codes.ok:  # 상태 코드가 200이면\n",
    "    print('정상입니다')  # 정상 응답 처리\n",
    "else:\n",
    "    print('문제가 있습니다')  # 에러 발생"
   ]
  },
  {
   "cell_type": "code",
   "execution_count": 22,
   "id": "b172d2af-3aed-4841-8ac1-40f63da50c4d",
   "metadata": {},
   "outputs": [
    {
     "data": {
      "text/plain": [
       "<bound method Response.raise_for_status of <Response [200]>>"
      ]
     },
     "execution_count": 22,
     "metadata": {},
     "output_type": "execute_result"
    }
   ],
   "source": [
    "response.raise_for_status  # 응답에 문제가 있으면 예외를 발생시킬 수 있는 함수 (괄호가 없어서 아직 실행은 안 돼)"
   ]
  },
  {
   "cell_type": "code",
   "execution_count": null,
   "id": "659b94f0-b010-4db8-bc69-3bb50af0acb7",
   "metadata": {},
   "outputs": [
    {
     "name": "stdout",
     "output_type": "stream",
     "text": [
      "UTF-8\n"
     ]
    }
   ],
   "source": [
    "print(response.text[:100])  # 응답받은 HTML 문서의 앞 100자만 출력해"
   ]
  },
  {
   "cell_type": "code",
   "execution_count": null,
   "id": "85e497a5-bde1-4ae2-b5cb-a677c7627a94",
   "metadata": {},
   "outputs": [],
   "source": [
    "print(response.encoding)print(response.encoding)  # 해당 HTML 문서의 문자 인코딩을 확인 (ex. 'UTF-8')"
   ]
  },
  {
   "cell_type": "code",
   "execution_count": null,
   "id": "8a08e118-3448-403f-bec0-624481315eb9",
   "metadata": {},
   "outputs": [],
   "source": [
    "html = response.text  # 전체 HTML 문서를 변수에 저장\n",
    "open('naver.html', 'w', encoding='utf-8').write(html)  # 파일로 저장 (UTF-8 인코딩으로)"
   ]
  },
  {
   "cell_type": "code",
   "execution_count": null,
   "id": "ce27ab12-bc5d-477e-aa8a-5a8b2099038e",
   "metadata": {},
   "outputs": [],
   "source": [
    "url = 'https://www.google.com'\n",
    "response = requests.get(url)\n",
    "html = response.text\n",
    "print(html)"
   ]
  },
  {
   "cell_type": "code",
   "execution_count": null,
   "id": "d8fc44ab-c4b2-439a-83ce-12fe924a7a09",
   "metadata": {},
   "outputs": [],
   "source": [
    "open('google.html', 'w', encoding='utf-8').write(html)"
   ]
  },
  {
   "cell_type": "code",
   "execution_count": null,
   "id": "09e2a510-3d3d-421a-8297-64a8c79ca24c",
   "metadata": {},
   "outputs": [],
   "source": [
    "google_logo = 'https://www.google.com/images/branding/googlelogo/2x/googlelogo_color_272x92dp.png'\n",
    "response = requests.get(google_logo)\n",
    "open('googlelogo.png', 'wb').write(response.content)"
   ]
  },
  {
   "cell_type": "code",
   "execution_count": null,
   "id": "69dae4b3-3ef9-4d79-9216-3eb3ab4ef2bf",
   "metadata": {},
   "outputs": [],
   "source": [
    "article_word = \"\"\"We observe today not a victory of a party but a celebration of freedom―symbolizing an end as well as a beginning―signifying renewal as well as change. For I have sworn before you and Almighty God the same solemn oath our forebears prescribed1) nearly a century and three quarters ago.\n",
    "The world is very different now. For man holds in his mortal hands the power to abolish all forms of human poverty and all forms of human life. And yet the same revolutionary beliefs for which our forebears fought are still at issue around the globe―the belief that the rights of man come not from the generosity of the state but from the hand of God.\n",
    "We dare not forget today that we are the heirs of that first revolution. Let the word go forth from this time and place, to friend and foe alike, that the torch has been passed to a new generation of Americans―born in this century, tempered by war, disciplined by a hard and bitter peace, proud of our ancient heritage―and unwilling to witness or permit the slow undoing of those human rights to which this nation has always been committed, and to which we are committed today at home and around the world.\n",
    "Let every nation know, whether it wishes us well or ill, that we shall pay any price, bear any burden, meet any hardship, support any friend, oppose any foe to assure the survival and success of liberty.\n",
    "This much we pledge―and more.\n",
    "To those old allies whose cultural and spiritual origins we share, we pledge the loyalty of faithful friends. United, there is little we cannot do in a host of cooperative ventures. Divided, there is little we can do―for we dare not meet a powerful challenge at odds and split asunder.\n",
    "To those new states2) whom we welcome to the ranks of the free, we pledge our word that one form of colonial control shall not have passed away merely to be replaced by a far more iron tyranny. We shall not always expect to find them supporting our view. But we shall always hope to find them strongly supporting their own freedom―and to remember that, in the past, those who foolishly sought power by riding the back of the tiger ended up inside.\n",
    "To those peoples in the huts and villages of half the globe struggling to break the bonds of mass misery; we pledge our best efforts to help them help themselves, for whatever period is required―not because the Communists may be doing it, not because we seek their votes, but because it is right. If a free society cannot help the many who are poor, it cannot save the few who are rich.\n",
    "To our sister republics south of our border3), we offer a special pledge―to convert our good words into good deeds―in a new alliance for progress―to assist free men and free governments in casting off the chains of poverty. But this peaceful revolution of hope cannot become the prey of hostile powers. Let all our neighbors know that we shall join with them to oppose aggression or subversion anywhere in the Americas. And let every other power know that this hemisphere4) intends to remain the master of its own house.\n",
    "To that world assembly of sovereign states, the United Nations, our last best hope in an age where the instruments of war have far outpaced the instruments of peace, we renew our pledge of support―to prevent it from becoming merely a forum for invective―to strengthen its shield of the new and the weak―and to enlarge the area in which its writ may run.\n",
    "Finally, to those nations who would make themselves our adversary, we offer not a pledge but a request: that both sides begin anew the quest for peace, before the dark powers of destruction unleashed by science engulf all humanity in planned or accidental self-destruction.\n",
    "We dare not tempt them with weakness. For only when our arms are sufficient beyond doubt can we be certain beyond doubt that they will never be employed.\n",
    "But neither can two great and powerful groups of nations take comfort from our present course―both sides overburdened by the cost of modern weapons, both rightly alarmed by the steady spread of the deadly atom, yet both racing to alter that uncertain balance of terror that stays the hand of mankind’s final war.\n",
    "So let us begin anew―remembering on both sides that civility is not a sign of weakness, and sincerity is always subject to proof. Let us never negotiate out of fear. But let us never fear to negotiate.\n",
    "Let both sides explore what problems unite us instead of belaboring those problems which divide us. Let both sides, for the first time, formulate serious and precise proposals for the inspection and control of arms―and bring the absolute power to destroy other nations under the absolute control of all nations.\n",
    "Let both sides seek to invoke the wonders of science instead of its terrors. Together let us explore the stars, conquer the deserts, eradicate disease, tap the ocean depths, and encourage the arts and commerce.\n",
    "Let both sides unite to heed in all corners of the earth the command of Isaiah―to “undo the heavy burdens and to let the oppressed go free.”5)\n",
    "And if a beachhead of cooperation may push back the jungle of suspicion, let both sides join in a new endeavor―not a new balance of power, but a new world of law, where the strong are just and the weak secure and the peace preserved.\n",
    "All this will not be finished in the first one hundred days.6) Nor will it be finished in the first one thousand days, nor in the life of this administration, nor even perhaps in our lifetime on this planet. But let us begin.\n",
    "In your hands, my fellow citizens, more than mine, will rest the final success or failure of our course. Since this country was founded, each generation of Americans has been summoned to give testimony to its national loyalty. The graves of young Americans who answered the call to service surround the globe.\n",
    "Now the trumpet summons us again―not as a call to bear arms, though arms we need―not as a call to battle, though embattled we are―but a call to bear the burden of a long twilight struggle, year in and year out, “rejoicing in hope, patient in tribulation”7)―a struggle against the common enemies of man: tyranny, poverty, disease, and war itself.\n",
    "Can we forge against these enemies a grand and global alliance, North and South, East and West,8) that can assure a more fruitful life for all mankind? Will you join in that historic effort?\n",
    "In the long history of the world, only a few generations have been granted the role of defending freedom in its hour of maximum danger. I do not shrink from this responsibility―I welcome it. I do not believe that any of us would exchange places with any other people or any other generation. The energy, the faith, the devotion which we bring to this endeavor will light our country and all who serve it―and the glow from that fire can truly light the world.\n",
    "And so, my fellow Americans, ask not what your country can do for you―ask what you can do for your country.\n",
    "My fellow citizens of the world, ask not what America will do for you, but what together we can do for the freedom of man.\n",
    "Finally, whether you are citizens of America or citizens of the world, ask of us here the same high standards of strength and sacrifice which we ask of you. With a good conscience our only sure reward, with history the final judge of our deeds, let us go forth to lead the land we love, asking his blessing and his help, but knowing that here on earth God’s work must truly be our own.\n",
    "\"\"\""
   ]
  },
  {
   "cell_type": "code",
   "execution_count": null,
   "id": "2feb217e-a43a-4d59-a1c7-2f7cfadf1523",
   "metadata": {},
   "outputs": [],
   "source": [
    "#  pip install spacy\n",
    "#  python -m spacy download en_core_web_sm\n",
    "import spacy\n",
    "\n",
    "nlp = spacy.load(\"en_core_web_sm\")"
   ]
  },
  {
   "cell_type": "code",
   "execution_count": null,
   "id": "ab7cf8e3-2a02-4034-bccc-503889c79c2b",
   "metadata": {},
   "outputs": [],
   "source": [
    "# 텍스트 분석 \n",
    "doc = nlp(article_word)"
   ]
  },
  {
   "cell_type": "code",
   "execution_count": null,
   "id": "3c2c3f27-2b05-43b8-9ef3-6e6a3e06c35a",
   "metadata": {},
   "outputs": [],
   "source": [
    "filtered_words = [token.text for token  in doc if token.pos_ in ['NOUN', 'ADJ', 'PRON']]"
   ]
  },
  {
   "cell_type": "code",
   "execution_count": null,
   "id": "184c48b0-c0f5-487f-a442-c8a527394470",
   "metadata": {},
   "outputs": [],
   "source": [
    "print(\"추출된 단어 : \", filtered_words)"
   ]
  },
  {
   "cell_type": "code",
   "execution_count": null,
   "id": "1d513989-6767-47ac-8ebc-f027fab79b89",
   "metadata": {},
   "outputs": [],
   "source": [
    "# worldCloud 생성을 위해 단어 리스트를 하나의 문자열로 결합\n",
    "\n",
    "from wordcloud import WordCloud\n",
    "import matplotlib.pyplot as plt\n",
    "\n",
    "filtered_text = \" \".join(filtered_words)\n",
    "print(filtered_text)"
   ]
  },
  {
   "cell_type": "code",
   "execution_count": null,
   "id": "65efe7c4-f7da-43f7-b7f0-0a9c4908a8be",
   "metadata": {},
   "outputs": [],
   "source": [
    "# worldcloud 생성\n",
    "wordcloud = WordCloud(width=800, height=400, background_color='white', \n",
    "                      colormap='viridis').generate(filtered_text)"
   ]
  },
  {
   "cell_type": "code",
   "execution_count": null,
   "id": "0c2ca498-39d6-4c98-a984-01259e66b006",
   "metadata": {},
   "outputs": [],
   "source": [
    "# wordcloud 시각화\n",
    "plt.figure(figsize=(10, 6))\n",
    "plt.imshow(wordcloud, interpolation='bilinear')\n",
    "plt.axis('off')\n",
    "plt.title('Filtered Words WordCloud', fontsize=20)\n",
    "plt.show()"
   ]
  },
  {
   "cell_type": "code",
   "execution_count": null,
   "id": "c202ab57-3ea9-4362-8384-fc361e9125aa",
   "metadata": {},
   "outputs": [],
   "source": [
    "data = {\n",
    "  \"results\": {\n",
    "    \"sunrise\": \"7:02:53 AM\",\n",
    "    \"sunset\": \"5:05:32 PM\",\n",
    "    \"solar_noon\": \"12:04:12 PM\",\n",
    "    \"day_length\": \"10:02:39\",\n",
    "    \"civil_twilight_begin\": \"6:36:19 AM\",\n",
    "    \"civil_twilight_end\": \"5:32:05 PM\",\n",
    "    \"nautical_twilight_begin\": \"6:04:40 AM\",\n",
    "    \"nautical_twilight_end\": \"6:03:45 PM\",\n",
    "    \"astronomical_twilight_begin\": \"5:33:43 AM\",\n",
    "    \"astronomical_twilight_end\": \"6:34:42 PM\"\n",
    "  },\n",
    "  \"status\": \"OK\",\n",
    "  \"tzid\": \"UTC\"\n",
    "}\n",
    "\n",
    "type(data)"
   ]
  },
  {
   "cell_type": "code",
   "execution_count": null,
   "id": "49262a42-3e56-4bf0-a4ce-b5a1d42f64bc",
   "metadata": {},
   "outputs": [],
   "source": [
    "data.keys()"
   ]
  },
  {
   "cell_type": "code",
   "execution_count": null,
   "id": "c7aa2426-03ad-4fbb-8b3d-005a9630b37a",
   "metadata": {},
   "outputs": [],
   "source": [
    "data['results'].keys()"
   ]
  },
  {
   "cell_type": "code",
   "execution_count": null,
   "id": "4ef620c5-9e22-464f-a8ef-debcd35bd1da",
   "metadata": {},
   "outputs": [],
   "source": [
    "print(data['results']['sunset'])\n",
    "print(data['results']['day_length'])"
   ]
  },
  {
   "cell_type": "code",
   "execution_count": null,
   "id": "fc99137b-1064-493c-8036-3d1fcd89c715",
   "metadata": {},
   "outputs": [],
   "source": [
    "import requests\n",
    "\n",
    "url = 'https://api.sunrise-sunset.org/json?lat=36.7201600&lng=-4.4203400'\n",
    "data = requests.get(url)\n",
    "data.text"
   ]
  },
  {
   "cell_type": "code",
   "execution_count": null,
   "id": "80b7fd63-329c-4d60-bbcc-7d8555630f9c",
   "metadata": {},
   "outputs": [],
   "source": [
    "url = 'https://api.sunrise-sunset.org/json?lat=36.7201600&lng=-4.4203400'\n",
    "data = requests.get(url).json()\n",
    "data"
   ]
  },
  {
   "cell_type": "code",
   "execution_count": null,
   "id": "f6c8fe62-ba3e-4bab-bc7c-f2884d46bc75",
   "metadata": {},
   "outputs": [],
   "source": [
    "print(data['results']['sunset'])\n",
    "print(data['results']['day_length'])"
   ]
  },
  {
   "cell_type": "code",
   "execution_count": null,
   "id": "8f8c6eee-385e-4412-9d41-aa1e8a08be58",
   "metadata": {},
   "outputs": [],
   "source": [
    "date = '2024-11-22'\n",
    "\n",
    "url = f'https://api.sunrise-sunset.org/json?lat=36.7201600&lng=-4.4203400&date={date}'\n",
    "data = requests.get(url).json()\n",
    "data"
   ]
  },
  {
   "cell_type": "code",
   "execution_count": null,
   "id": "9d42b339-1bb0-4249-ad7c-a987d57c3744",
   "metadata": {},
   "outputs": [],
   "source": [
    "print(data['results']['sunset'])\n",
    "print(data['results']['day_length'])"
   ]
  },
  {
   "cell_type": "code",
   "execution_count": null,
   "id": "9cabae57-fe5d-4dfc-9677-a8829823a764",
   "metadata": {},
   "outputs": [],
   "source": [
    "def by_date(date):\n",
    "    url = f'https://api.sunrise-sunset.org/json?lat=36.7201600&lng=-4.4203400&date={date}'\n",
    "    return requests.get(url).json()['results']"
   ]
  },
  {
   "cell_type": "code",
   "execution_count": null,
   "id": "f10ac9c6-368b-498f-95a6-8fa392e5e2f1",
   "metadata": {},
   "outputs": [],
   "source": [
    "by_date('2024-11-22')"
   ]
  },
  {
   "cell_type": "markdown",
   "id": "31734d58-cce5-495f-bb9f-9a7f2da49997",
   "metadata": {},
   "source": [
    "### DataFrame"
   ]
  },
  {
   "cell_type": "code",
   "execution_count": null,
   "id": "ddc5bbe3-edc5-4f29-b962-48f11e62173f",
   "metadata": {},
   "outputs": [],
   "source": [
    "sample_list = []\n",
    "\n",
    "sample_list.append({'date': '2024-11-03', 'dayofweek' : 'sun'})\n",
    "sample_list.append({'date': '2024-11-04', 'dayofweek' : 'mon'})\n",
    "sample_list.append({'date': '2024-11-05', 'dayofweek' : 'tue'})\n",
    "\n",
    "sample_list"
   ]
  },
  {
   "cell_type": "code",
   "execution_count": null,
   "id": "29aa1ee7-c917-4199-a431-49f160a814fd",
   "metadata": {},
   "outputs": [],
   "source": [
    "import pandas as pd\n",
    "\n",
    "df = pd.DataFrame(sample_list)\n",
    "df"
   ]
  },
  {
   "cell_type": "code",
   "execution_count": null,
   "id": "3804154a-d8b3-4b3f-a0ea-78c8a0750fb0",
   "metadata": {},
   "outputs": [],
   "source": [
    "df.to_csv('sample.csv')"
   ]
  },
  {
   "cell_type": "code",
   "execution_count": null,
   "id": "6383486b-1a02-4361-9370-3aca29cff284",
   "metadata": {},
   "outputs": [],
   "source": [
    "pd.read_csv('sample.csv')"
   ]
  },
  {
   "cell_type": "code",
   "execution_count": null,
   "id": "6945c8fa-f806-49a8-8a74-3ad3a66fa8db",
   "metadata": {},
   "outputs": [],
   "source": [
    "df.to_csv('sample.csv', index=False)"
   ]
  },
  {
   "cell_type": "code",
   "execution_count": null,
   "id": "d4fe5542-d6de-4e33-892b-cfe1d9482661",
   "metadata": {},
   "outputs": [],
   "source": [
    "pd.read_csv('sample.csv')"
   ]
  },
  {
   "cell_type": "code",
   "execution_count": null,
   "id": "b9cd40f5-2838-4bd3-9cda-b715f568cad2",
   "metadata": {},
   "outputs": [],
   "source": []
  },
  {
   "cell_type": "code",
   "execution_count": null,
   "id": "582d2e09-abc2-4dff-84d6-1e431645e54d",
   "metadata": {},
   "outputs": [],
   "source": []
  },
  {
   "cell_type": "code",
   "execution_count": null,
   "id": "bedbd0fd-a05f-4f95-b82e-ff02e9862277",
   "metadata": {},
   "outputs": [],
   "source": []
  }
 ],
 "metadata": {
  "kernelspec": {
   "display_name": "py312tf2",
   "language": "python",
   "name": "python3"
  },
  "language_info": {
   "codemirror_mode": {
    "name": "ipython",
    "version": 3
   },
   "file_extension": ".py",
   "mimetype": "text/x-python",
   "name": "python",
   "nbconvert_exporter": "python",
   "pygments_lexer": "ipython3",
   "version": "3.12.9"
  }
 },
 "nbformat": 4,
 "nbformat_minor": 5
}
