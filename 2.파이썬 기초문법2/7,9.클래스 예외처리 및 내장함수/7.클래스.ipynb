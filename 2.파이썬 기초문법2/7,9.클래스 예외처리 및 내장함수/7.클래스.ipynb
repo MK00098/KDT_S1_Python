{
 "cells": [
  {
   "cell_type": "code",
   "execution_count": 1,
   "id": "53c47fa3-1337-40fc-9533-e7aa0247db35",
   "metadata": {},
   "outputs": [],
   "source": [
    "def add(a, b):\n",
    "    return a + b"
   ]
  },
  {
   "cell_type": "code",
   "execution_count": 3,
   "id": "8d0e3de3-980f-44f0-b712-df5b11e0572d",
   "metadata": {},
   "outputs": [
    {
     "name": "stdout",
     "output_type": "stream",
     "text": [
      "3\n"
     ]
    }
   ],
   "source": [
    "result = add(1,2)     # 1, 2  \n",
    "print(result)"
   ]
  },
  {
   "cell_type": "code",
   "execution_count": 4,
   "id": "7a1de150-a0b5-46b3-b3c0-91e6b2337a74",
   "metadata": {},
   "outputs": [
    {
     "name": "stdout",
     "output_type": "stream",
     "text": [
      "15\n"
     ]
    }
   ],
   "source": [
    "c = 5\n",
    "d = 10\n",
    "result = add(c, d)\n",
    "print(result)"
   ]
  },
  {
   "cell_type": "code",
   "execution_count": 5,
   "id": "1d57cb0b-bf97-4242-b1bf-be6553aefda9",
   "metadata": {},
   "outputs": [],
   "source": [
    "class Cookie:\n",
    "    pass"
   ]
  },
  {
   "cell_type": "code",
   "execution_count": 6,
   "id": "80a25e74-3813-4c0b-a76d-16897c0da86e",
   "metadata": {},
   "outputs": [],
   "source": [
    "a = Cookie()"
   ]
  },
  {
   "cell_type": "code",
   "execution_count": 7,
   "id": "e853b3de-0c45-4c11-affa-3f5f4a1e2121",
   "metadata": {},
   "outputs": [
    {
     "name": "stdout",
     "output_type": "stream",
     "text": [
      "<__main__.Cookie object at 0x000001CD2E7376E0>\n"
     ]
    }
   ],
   "source": [
    "print(a)"
   ]
  },
  {
   "cell_type": "code",
   "execution_count": 46,
   "id": "0aa325dc-f8ad-4a11-aabf-0b42e70f4017",
   "metadata": {},
   "outputs": [],
   "source": [
    "class ForCal:\n",
    "    def setData(self, first, second):\n",
    "        self.first = first\n",
    "        self.second = second\n",
    "    def add(self):\n",
    "        return self.first + self.second\n",
    "    def sub(self):\n",
    "        return self.first - self.second\n",
    "    def mul(self):\n",
    "        return self.first * self.second\n",
    "    def div(self):\n",
    "        return self.first / self.second"
   ]
  },
  {
   "cell_type": "code",
   "execution_count": 47,
   "id": "6b685a6c-eca4-42f7-bb72-7bfc08ee3c69",
   "metadata": {},
   "outputs": [
    {
     "name": "stdout",
     "output_type": "stream",
     "text": [
      "<__main__.ForCal object at 0x000001CD2E9A5A90>\n"
     ]
    }
   ],
   "source": [
    "a = ForCal()\n",
    "print(a)"
   ]
  },
  {
   "cell_type": "code",
   "execution_count": 48,
   "id": "c27285bd-0784-48db-8d30-a343c4489969",
   "metadata": {},
   "outputs": [],
   "source": [
    "a.setData(1, 2)"
   ]
  },
  {
   "cell_type": "code",
   "execution_count": 49,
   "id": "f10b0f48-7f72-434b-bd5e-fdf01f2d7e19",
   "metadata": {},
   "outputs": [
    {
     "name": "stdout",
     "output_type": "stream",
     "text": [
      "1\n"
     ]
    }
   ],
   "source": [
    "print(a.first)"
   ]
  },
  {
   "cell_type": "code",
   "execution_count": 50,
   "id": "091db40b-7c8d-4dba-90d5-e57007a86cf7",
   "metadata": {},
   "outputs": [
    {
     "name": "stdout",
     "output_type": "stream",
     "text": [
      "2\n"
     ]
    }
   ],
   "source": [
    "print(a.second)"
   ]
  },
  {
   "cell_type": "code",
   "execution_count": 51,
   "id": "b871ed11-1e4c-4764-a2f6-c22aadd2c73a",
   "metadata": {},
   "outputs": [
    {
     "data": {
      "text/plain": [
       "3"
      ]
     },
     "execution_count": 51,
     "metadata": {},
     "output_type": "execute_result"
    }
   ],
   "source": [
    "a.add()"
   ]
  },
  {
   "cell_type": "code",
   "execution_count": 52,
   "id": "4e202531-40cb-47fc-8bf1-84cfc9c78a65",
   "metadata": {},
   "outputs": [
    {
     "data": {
      "text/plain": [
       "-1"
      ]
     },
     "execution_count": 52,
     "metadata": {},
     "output_type": "execute_result"
    }
   ],
   "source": [
    "a.sub()"
   ]
  },
  {
   "cell_type": "code",
   "execution_count": 53,
   "id": "af6e76ff-66a0-4be4-9c6f-65d36477771b",
   "metadata": {},
   "outputs": [
    {
     "data": {
      "text/plain": [
       "2"
      ]
     },
     "execution_count": 53,
     "metadata": {},
     "output_type": "execute_result"
    }
   ],
   "source": [
    "a.mul()"
   ]
  },
  {
   "cell_type": "code",
   "execution_count": 54,
   "id": "51b18f07-efe5-4d23-8fff-0d5b49f17dad",
   "metadata": {},
   "outputs": [
    {
     "data": {
      "text/plain": [
       "0.5"
      ]
     },
     "execution_count": 54,
     "metadata": {},
     "output_type": "execute_result"
    }
   ],
   "source": [
    "a.div()"
   ]
  },
  {
   "cell_type": "code",
   "execution_count": 55,
   "id": "c5b83ed7-af7f-4035-b160-60da197ba4d3",
   "metadata": {},
   "outputs": [],
   "source": [
    "b = ForCal()"
   ]
  },
  {
   "cell_type": "code",
   "execution_count": 56,
   "id": "36e471c7-d033-4d66-b643-cc5fb617df1f",
   "metadata": {},
   "outputs": [],
   "source": [
    "b.setData(5, 3)"
   ]
  },
  {
   "cell_type": "code",
   "execution_count": 57,
   "id": "d8cdc2e0-8c1b-4cd1-ab3b-6e2190438174",
   "metadata": {},
   "outputs": [
    {
     "data": {
      "text/plain": [
       "5"
      ]
     },
     "execution_count": 57,
     "metadata": {},
     "output_type": "execute_result"
    }
   ],
   "source": [
    "b.first"
   ]
  },
  {
   "cell_type": "code",
   "execution_count": 58,
   "id": "4960fa73-a054-4fdc-9b9c-2d6898573c68",
   "metadata": {},
   "outputs": [
    {
     "data": {
      "text/plain": [
       "3"
      ]
     },
     "execution_count": 58,
     "metadata": {},
     "output_type": "execute_result"
    }
   ],
   "source": [
    "b.second"
   ]
  },
  {
   "cell_type": "code",
   "execution_count": 59,
   "id": "439782c6-a5a1-496e-ad37-0bd186a35fb6",
   "metadata": {},
   "outputs": [
    {
     "data": {
      "text/plain": [
       "8"
      ]
     },
     "execution_count": 59,
     "metadata": {},
     "output_type": "execute_result"
    }
   ],
   "source": [
    "b.add()"
   ]
  },
  {
   "cell_type": "code",
   "execution_count": 61,
   "id": "4de47da2-8c15-4ed6-8b74-84e912d94c83",
   "metadata": {},
   "outputs": [
    {
     "data": {
      "text/plain": [
       "1.6666666666666667"
      ]
     },
     "execution_count": 61,
     "metadata": {},
     "output_type": "execute_result"
    }
   ],
   "source": [
    "b.div()"
   ]
  },
  {
   "cell_type": "code",
   "execution_count": 68,
   "id": "3ca5cd7e-b577-497a-8e2f-8a5a4621955a",
   "metadata": {},
   "outputs": [],
   "source": [
    "class FourCal:\n",
    "    def __init__(self, first, second):    # 생성자 메소드\n",
    "        print(\"생성자 메소트가 변수를 초기화 하였습니다.\")\n",
    "        self.first = first\n",
    "        self.second = second\n",
    "    def add(self):\n",
    "        return self.first + self.second\n",
    "    def sub(self):\n",
    "        return self.first - self.second\n",
    "    def mul(self):\n",
    "        return self.first * self.second\n",
    "    def div(self):\n",
    "        return self.first / self.second"
   ]
  },
  {
   "cell_type": "code",
   "execution_count": 69,
   "id": "9d780e7d-b6bc-4ae8-8427-2507f267475e",
   "metadata": {},
   "outputs": [
    {
     "name": "stdout",
     "output_type": "stream",
     "text": [
      "생성자 메소트가 변수를 초기화 하였습니다.\n"
     ]
    }
   ],
   "source": [
    "a = FourCal(1, 2)"
   ]
  },
  {
   "cell_type": "code",
   "execution_count": 70,
   "id": "541637b2-4b31-4f18-b095-1fcc0a9ce8b9",
   "metadata": {},
   "outputs": [
    {
     "data": {
      "text/plain": [
       "3"
      ]
     },
     "execution_count": 70,
     "metadata": {},
     "output_type": "execute_result"
    }
   ],
   "source": [
    "a.add()"
   ]
  },
  {
   "cell_type": "code",
   "execution_count": 84,
   "id": "2f3b462e-f6d3-4461-9922-b4e8522543ed",
   "metadata": {},
   "outputs": [],
   "source": [
    "class MoreFourCal(FourCal):\n",
    "    def pow(self):\n",
    "        return self.first ** self.second\n",
    "    def div(self):\n",
    "        if self.second == 0:\n",
    "            return 999999\n",
    "        else:\n",
    "            return self.first / self.second "
   ]
  },
  {
   "cell_type": "code",
   "execution_count": 85,
   "id": "70d1ceb5-d94f-4c6d-8f75-a244ace0dc4f",
   "metadata": {},
   "outputs": [
    {
     "name": "stdout",
     "output_type": "stream",
     "text": [
      "생성자 메소트가 변수를 초기화 하였습니다.\n"
     ]
    }
   ],
   "source": [
    "c = MoreFourCal(5, 0)"
   ]
  },
  {
   "cell_type": "code",
   "execution_count": 86,
   "id": "8fdf4887-eb89-45f6-add0-0a4fd209fcf3",
   "metadata": {},
   "outputs": [
    {
     "data": {
      "text/plain": [
       "999999"
      ]
     },
     "execution_count": 86,
     "metadata": {},
     "output_type": "execute_result"
    }
   ],
   "source": [
    "c.div()"
   ]
  },
  {
   "cell_type": "code",
   "execution_count": 80,
   "id": "1c0b3e67-ef38-4ab4-a9cd-c9a75274a7ae",
   "metadata": {},
   "outputs": [
    {
     "data": {
      "text/plain": [
       "15625"
      ]
     },
     "execution_count": 80,
     "metadata": {},
     "output_type": "execute_result"
    }
   ],
   "source": [
    "5 ** 6"
   ]
  },
  {
   "cell_type": "markdown",
   "id": "d77a2dab",
   "metadata": {},
   "source": [
    "## 클래스 변수"
   ]
  },
  {
   "cell_type": "code",
   "execution_count": 1,
   "id": "4a1cefc4",
   "metadata": {},
   "outputs": [],
   "source": [
    "class Family:\n",
    "    lastname = '김'"
   ]
  },
  {
   "cell_type": "code",
   "execution_count": 2,
   "id": "c8628ef5",
   "metadata": {},
   "outputs": [
    {
     "data": {
      "text/plain": [
       "'김'"
      ]
     },
     "execution_count": 2,
     "metadata": {},
     "output_type": "execute_result"
    }
   ],
   "source": [
    "Family.lastname"
   ]
  },
  {
   "cell_type": "code",
   "execution_count": 3,
   "id": "a926a5d3",
   "metadata": {},
   "outputs": [
    {
     "data": {
      "text/plain": [
       "'김'"
      ]
     },
     "execution_count": 3,
     "metadata": {},
     "output_type": "execute_result"
    }
   ],
   "source": [
    "a = Family ()\n",
    "a.lastname"
   ]
  },
  {
   "cell_type": "code",
   "execution_count": 8,
   "id": "c43903fa",
   "metadata": {},
   "outputs": [
    {
     "data": {
      "text/plain": [
       "'김'"
      ]
     },
     "execution_count": 8,
     "metadata": {},
     "output_type": "execute_result"
    }
   ],
   "source": [
    "b = Family()\n",
    "b.lastname"
   ]
  },
  {
   "cell_type": "code",
   "execution_count": 9,
   "id": "17e22706",
   "metadata": {},
   "outputs": [],
   "source": [
    "Family.lastname = '박'"
   ]
  },
  {
   "cell_type": "code",
   "execution_count": 10,
   "id": "d1fce435",
   "metadata": {},
   "outputs": [
    {
     "name": "stdout",
     "output_type": "stream",
     "text": [
      "박\n",
      "박\n"
     ]
    }
   ],
   "source": [
    "print(a.lastname)\n",
    "print(b.lastname)"
   ]
  },
  {
   "cell_type": "markdown",
   "id": "54cb20fa",
   "metadata": {},
   "source": [
    "## 모듈"
   ]
  },
  {
   "cell_type": "code",
   "execution_count": null,
   "id": "1d671aee",
   "metadata": {},
   "outputs": [],
   "source": [
    "import mod1 # 전체 mod1이라는 객체로 함수 add, sub 불러옴옴"
   ]
  },
  {
   "cell_type": "code",
   "execution_count": 14,
   "id": "02f359f0",
   "metadata": {},
   "outputs": [
    {
     "data": {
      "text/plain": [
       "3"
      ]
     },
     "execution_count": 14,
     "metadata": {},
     "output_type": "execute_result"
    }
   ],
   "source": [
    "mod1.add(1,2)"
   ]
  },
  {
   "cell_type": "code",
   "execution_count": 15,
   "id": "225110ca",
   "metadata": {},
   "outputs": [],
   "source": [
    "del mod1"
   ]
  },
  {
   "cell_type": "code",
   "execution_count": 27,
   "id": "d48f8c39",
   "metadata": {},
   "outputs": [],
   "source": [
    "from mod1 import add, sub # 모듈 mod1에서 함수 add, sub 불러옴"
   ]
  },
  {
   "cell_type": "code",
   "execution_count": 17,
   "id": "b1f6cb0f",
   "metadata": {},
   "outputs": [
    {
     "data": {
      "text/plain": [
       "7"
      ]
     },
     "execution_count": 17,
     "metadata": {},
     "output_type": "execute_result"
    }
   ],
   "source": [
    "add(3,4)"
   ]
  },
  {
   "cell_type": "code",
   "execution_count": 20,
   "id": "30efa7b9",
   "metadata": {},
   "outputs": [
    {
     "data": {
      "text/plain": [
       "-1"
      ]
     },
     "execution_count": 20,
     "metadata": {},
     "output_type": "execute_result"
    }
   ],
   "source": [
    "sub(3,4)"
   ]
  },
  {
   "cell_type": "code",
   "execution_count": 21,
   "id": "0bda0933",
   "metadata": {},
   "outputs": [],
   "source": [
    "del add, sub"
   ]
  },
  {
   "cell_type": "code",
   "execution_count": 32,
   "id": "65415157",
   "metadata": {},
   "outputs": [],
   "source": [
    "from mod1 import add as adds # add를 별명 adds로 변환\n"
   ]
  },
  {
   "cell_type": "code",
   "execution_count": 23,
   "id": "25678817",
   "metadata": {},
   "outputs": [
    {
     "data": {
      "text/plain": [
       "7"
      ]
     },
     "execution_count": 23,
     "metadata": {},
     "output_type": "execute_result"
    }
   ],
   "source": [
    "adds(3,4)"
   ]
  },
  {
   "cell_type": "code",
   "execution_count": 24,
   "id": "ab29f618",
   "metadata": {},
   "outputs": [],
   "source": [
    "add(3,4)"
   ]
  },
  {
   "cell_type": "code",
   "execution_count": 28,
   "id": "8bb571f9",
   "metadata": {},
   "outputs": [],
   "source": [
    "del adds"
   ]
  },
  {
   "cell_type": "code",
   "execution_count": 33,
   "id": "8d822542",
   "metadata": {},
   "outputs": [],
   "source": [
    "from mod1 import *    # 모듈 mod1에 있는 함수 모두를 불러옴옴"
   ]
  },
  {
   "cell_type": "code",
   "execution_count": 34,
   "id": "09d0d2d3",
   "metadata": {},
   "outputs": [
    {
     "data": {
      "text/plain": [
       "5"
      ]
     },
     "execution_count": 34,
     "metadata": {},
     "output_type": "execute_result"
    }
   ],
   "source": [
    "add(2, 3)"
   ]
  },
  {
   "cell_type": "code",
   "execution_count": 31,
   "id": "bf740b95",
   "metadata": {},
   "outputs": [
    {
     "data": {
      "text/plain": [
       "-1"
      ]
     },
     "execution_count": 31,
     "metadata": {},
     "output_type": "execute_result"
    }
   ],
   "source": [
    "sub(4, 5)"
   ]
  },
  {
   "cell_type": "code",
   "execution_count": 9,
   "id": "1fbdf668",
   "metadata": {},
   "outputs": [
    {
     "data": {
      "text/plain": [
       "'D:\\\\phyton-workspace'"
      ]
     },
     "execution_count": 9,
     "metadata": {},
     "output_type": "execute_result"
    }
   ],
   "source": [
    "import os\n",
    "os.getcwd()"
   ]
  },
  {
   "cell_type": "code",
   "execution_count": null,
   "id": "ee550cb1-ce2b-48cd-b01c-6e8de877ff1f",
   "metadata": {},
   "outputs": [],
   "source": []
  }
 ],
 "metadata": {
  "kernelspec": {
   "display_name": "py312tf2",
   "language": "python",
   "name": "python3"
  },
  "language_info": {
   "codemirror_mode": {
    "name": "ipython",
    "version": 3
   },
   "file_extension": ".py",
   "mimetype": "text/x-python",
   "name": "python",
   "nbconvert_exporter": "python",
   "pygments_lexer": "ipython3",
   "version": "3.12.9"
  }
 },
 "nbformat": 4,
 "nbformat_minor": 5
}
