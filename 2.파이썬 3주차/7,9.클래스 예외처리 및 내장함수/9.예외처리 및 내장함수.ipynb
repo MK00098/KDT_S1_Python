{
 "cells": [
  {
   "cell_type": "code",
   "execution_count": 1,
   "id": "0f19aed0-ef69-48c5-a4ab-5f6e03ee1fff",
   "metadata": {},
   "outputs": [
    {
     "name": "stdout",
     "output_type": "stream",
     "text": [
      "division by zero\n"
     ]
    }
   ],
   "source": [
    "try:\n",
    "    4 / 0\n",
    "except ZeroDivisionError as e:\n",
    "    print(e)"
   ]
  },
  {
   "cell_type": "code",
   "execution_count": 3,
   "id": "9638ea2e-882c-4e7d-8eb1-7e9968bc86f1",
   "metadata": {},
   "outputs": [
    {
     "name": "stdout",
     "output_type": "stream",
     "text": [
      "finally\n"
     ]
    },
    {
     "ename": "ZeroDivisionError",
     "evalue": "division by zero",
     "output_type": "error",
     "traceback": [
      "\u001b[1;31m---------------------------------------------------------------------------\u001b[0m",
      "\u001b[1;31mZeroDivisionError\u001b[0m                         Traceback (most recent call last)",
      "Cell \u001b[1;32mIn[3], line 3\u001b[0m\n\u001b[0;32m      1\u001b[0m \u001b[38;5;28;01mtry\u001b[39;00m:\n\u001b[0;32m      2\u001b[0m     f \u001b[38;5;241m=\u001b[39m \u001b[38;5;28mopen\u001b[39m(\u001b[38;5;124m'\u001b[39m\u001b[38;5;124mfoo.txt\u001b[39m\u001b[38;5;124m'\u001b[39m, \u001b[38;5;124m'\u001b[39m\u001b[38;5;124mw\u001b[39m\u001b[38;5;124m'\u001b[39m)\n\u001b[1;32m----> 3\u001b[0m     \u001b[38;5;241m4\u001b[39m\u001b[38;5;241m/\u001b[39m \u001b[38;5;241m0\u001b[39m\n\u001b[0;32m      5\u001b[0m \u001b[38;5;28;01mfinally\u001b[39;00m:\n\u001b[0;32m      6\u001b[0m     \u001b[38;5;28mprint\u001b[39m(\u001b[38;5;124m'\u001b[39m\u001b[38;5;124mfinally\u001b[39m\u001b[38;5;124m'\u001b[39m)\n",
      "\u001b[1;31mZeroDivisionError\u001b[0m: division by zero"
     ]
    }
   ],
   "source": [
    "try:\n",
    "    f = open('foo.txt', 'w')\n",
    "    4/ 0\n",
    "    \n",
    "finally:\n",
    "    print('finally')\n",
    "    f.close()     # 중간에 오류가 발생해도 무조건 실행됨"
   ]
  },
  {
   "cell_type": "code",
   "execution_count": 5,
   "id": "6dfaf171-b764-41fe-b78f-1c1a66f2e891",
   "metadata": {},
   "outputs": [
    {
     "name": "stdout",
     "output_type": "stream",
     "text": [
      "2\n",
      "division by zero\n"
     ]
    }
   ],
   "source": [
    "try:\n",
    "    a = [1, 2]\n",
    "    print(a[1])\n",
    "    4 / 0\n",
    "except ZeroDivisionError as e:\n",
    "    print(e)\n",
    "except IndexError:\n",
    "    print('인덱싱 할 수 없습니다.')"
   ]
  },
  {
   "cell_type": "code",
   "execution_count": 7,
   "id": "d954d61a-8901-474b-80b6-25baf3265d3b",
   "metadata": {},
   "outputs": [
    {
     "name": "stdout",
     "output_type": "stream",
     "text": [
      "2\n",
      "division by zero\n"
     ]
    }
   ],
   "source": [
    "try:\n",
    "    a = [1, 2]\n",
    "    print(a[1])\n",
    "    4 / 0\n",
    "except (ZeroDivisionError, IndexError) as e:\n",
    "    print(e)"
   ]
  },
  {
   "cell_type": "code",
   "execution_count": 12,
   "id": "af85d33d-cc74-4c27-a2d3-24d9fc80bfa6",
   "metadata": {},
   "outputs": [
    {
     "name": "stdin",
     "output_type": "stream",
     "text": [
      "나이를 입력하세요. 2\n"
     ]
    },
    {
     "name": "stdout",
     "output_type": "stream",
     "text": [
      "미성년자는 출입금지입니다.\n"
     ]
    }
   ],
   "source": [
    "try:\n",
    "    age = int(input('나이를 입력하세요.'))\n",
    "except:\n",
    "    print('입력 데이터가 정확하지 않습니다.')\n",
    "else:\n",
    "    if age <= 18:\n",
    "        print('미성년자는 출입금지입니다.')\n",
    "    else:\n",
    "        print('환영합니다.')"
   ]
  },
  {
   "cell_type": "code",
   "execution_count": 13,
   "id": "39308b58-90b7-47c0-b02e-4dd8b5bc8d86",
   "metadata": {},
   "outputs": [
    {
     "name": "stdout",
     "output_type": "stream",
     "text": [
      "실행완료\n"
     ]
    }
   ],
   "source": [
    "try:\n",
    "    f = open('나는없는파일', 'r')\n",
    "except FileNotFoundError:\n",
    "    pass\n",
    "\n",
    "print('실행완료')"
   ]
  },
  {
   "cell_type": "code",
   "execution_count": null,
   "id": "2b577bd1-5f1d-44fe-87fd-90965ff09f8e",
   "metadata": {},
   "outputs": [],
   "source": [
    "f = opne('나는없는파일', 'r')\n",
    "print('실행완료')"
   ]
  },
  {
   "cell_type": "code",
   "execution_count": 14,
   "id": "92c37329-95de-4c25-bdf4-252db9baad20",
   "metadata": {},
   "outputs": [],
   "source": [
    "class Bird:\n",
    "    def fly(self):\n",
    "        pass"
   ]
  },
  {
   "cell_type": "code",
   "execution_count": 20,
   "id": "2dfb038f-9c80-4df2-9d65-54ec2848c696",
   "metadata": {},
   "outputs": [
    {
     "ename": "TypeError",
     "evalue": "module() takes at most 2 arguments (3 given)",
     "output_type": "error",
     "traceback": [
      "\u001b[1;31m---------------------------------------------------------------------------\u001b[0m",
      "\u001b[1;31mTypeError\u001b[0m                                 Traceback (most recent call last)",
      "Cell \u001b[1;32mIn[20], line 1\u001b[0m\n\u001b[1;32m----> 1\u001b[0m \u001b[38;5;28;01mclass\u001b[39;00m \u001b[38;5;21;01mEagle\u001b[39;00m(bird):\n\u001b[0;32m      2\u001b[0m     \u001b[38;5;28;01mpass\u001b[39;00m\n\u001b[0;32m      4\u001b[0m eagle \u001b[38;5;241m=\u001b[39m Eagle()\n",
      "\u001b[1;31mTypeError\u001b[0m: module() takes at most 2 arguments (3 given)"
     ]
    }
   ],
   "source": [
    "class Eagle(bird):\n",
    "    pass\n",
    "\n",
    "eagle = Eagle()\n",
    "ealge.fly"
   ]
  },
  {
   "cell_type": "code",
   "execution_count": 21,
   "id": "9ccabc73-5e87-4fd7-9752-cb908772f66c",
   "metadata": {},
   "outputs": [],
   "source": [
    "# 사용자 예외 처리\n",
    "class MyError(Exception):\n",
    "    pass"
   ]
  },
  {
   "cell_type": "code",
   "execution_count": 22,
   "id": "3011f42a-c122-4e0b-b05f-004979b108ba",
   "metadata": {},
   "outputs": [],
   "source": [
    "def say_nick(nick):\n",
    "    if nick == '바보':\n",
    "        raise MyError()\n",
    "    print(nick)"
   ]
  },
  {
   "cell_type": "code",
   "execution_count": 23,
   "id": "43242ef5-4577-4922-8c52-d853e2f096fd",
   "metadata": {},
   "outputs": [
    {
     "name": "stdout",
     "output_type": "stream",
     "text": [
      "천사\n",
      "허용되지 않는 별명입니다.\n",
      "계속 진행\n"
     ]
    }
   ],
   "source": [
    "try:\n",
    "        say_nick('천사')\n",
    "        say_nick('바보')\n",
    "except MyError:\n",
    "    print('허용되지 않는 별명입니다.')\n",
    "\n",
    "    print('계속 진행')"
   ]
  },
  {
   "cell_type": "code",
   "execution_count": 25,
   "id": "5f6a1d11-7de4-4ee5-bc8f-3b304fabb454",
   "metadata": {},
   "outputs": [],
   "source": [
    "# 사용자 예외 처리\n",
    "class MyError(Exception):\n",
    "    def __str__(self):\n",
    "        return '허용되지 않는 별명명입니다.'"
   ]
  },
  {
   "cell_type": "raw",
   "id": "f02cfb0b-7b7c-469f-9b42-dde39d8f96cc",
   "metadata": {},
   "source": []
  },
  {
   "cell_type": "code",
   "execution_count": null,
   "id": "8e6264b1-b06f-458a-bd2c-c6245f04a1f0",
   "metadata": {},
   "outputs": [],
   "source": []
  }
 ],
 "metadata": {
  "kernelspec": {
   "display_name": "Python 3 (ipykernel)",
   "language": "python",
   "name": "python3"
  },
  "language_info": {
   "codemirror_mode": {
    "name": "ipython",
    "version": 3
   },
   "file_extension": ".py",
   "mimetype": "text/x-python",
   "name": "python",
   "nbconvert_exporter": "python",
   "pygments_lexer": "ipython3",
   "version": "3.12.9"
  }
 },
 "nbformat": 4,
 "nbformat_minor": 5
}
