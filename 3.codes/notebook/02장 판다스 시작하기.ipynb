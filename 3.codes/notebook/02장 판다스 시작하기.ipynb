{
 "cells": [
  {
   "cell_type": "markdown",
   "id": "ed437cab",
   "metadata": {},
   "source": [
    "## 02-1 판다스가 왜 필요할까?"
   ]
  },
  {
   "cell_type": "markdown",
   "id": "a4d87c12",
   "metadata": {},
   "source": [
    "## 02-2 데이터셋 불러오기"
   ]
  },
  {
   "cell_type": "markdown",
   "id": "6d81a5ef",
   "metadata": {},
   "source": [
    "### 데이터 분석은 데이터셋 불러오기부터"
   ]
  },
  {
   "cell_type": "markdown",
   "id": "9dd15966",
   "metadata": {},
   "source": [
    "#### [실습] 첫 데이터셋 불러오기"
   ]
  },
  {
   "cell_type": "code",
   "execution_count": null,
   "id": "e9edbc67",
   "metadata": {},
   "outputs": [],
   "source": [
    "import pandas as pd # pandas 라이브러리를 pd라는 별칭으로 임포트합니다. pandas는 데이터 분석 라이브러리입니다."
   ]
  },
  {
   "cell_type": "code",
   "execution_count": null,
   "id": "59f1c4d3",
   "metadata": {},
   "outputs": [],
   "source": [
    "df = pd.read_csv('../data/gapminder.tsv', sep='\\t')\n",
    "# '../data/gapminder.tsv' 파일을 불러와 df라는 데이터프레임에 저장합니다.\n",
    "# sep='\\t'는 데이터가 탭으로 구분되어 있음을 의미합니다(TSV 파일)."
   ]
  },
  {
   "cell_type": "code",
   "execution_count": null,
   "id": "8f542075",
   "metadata": {
    "scrolled": true
   },
   "outputs": [],
   "source": [
    "df   # print(df) # 데이터프레임 df의 내용을 출력합니다. print(df)와 동일한 기능을 합니다."
   ]
  },
  {
   "cell_type": "code",
   "execution_count": null,
   "id": "1bec8f66",
   "metadata": {},
   "outputs": [],
   "source": [
    "import pandas as pd\n",
    "df = pd.read_csv('../data/gapminder.tsv', sep='\\t')\n",
    "# 앞선 코드와 동일하게 pandas 라이브러리를 임포트하고 데이터를 불러옵니다."
   ]
  },
  {
   "cell_type": "markdown",
   "id": "918f9740",
   "metadata": {},
   "source": [
    "#### [실습] 데이터프레임 이해하기"
   ]
  },
  {
   "cell_type": "code",
   "execution_count": null,
   "id": "48efdb11",
   "metadata": {},
   "outputs": [],
   "source": [
    "print(type(df)) # df 변수의 타입을 출력합니다. pandas.core.frame.DataFrame 타입임을 확인할 수 있습니다."
   ]
  },
  {
   "cell_type": "code",
   "execution_count": null,
   "id": "12ce4d4b",
   "metadata": {},
   "outputs": [],
   "source": [
    "print(df.shape) # df의 형태(행과 열의 개수)를 출력합니다.\n",
    "print(df.shape[0]) # df.shape는 튜플 형태로 (행의 수, 열의 수)를 반환합니다.\n",
    "print(df.shape[1]) # df.shape[0]은 행의 수(1704개)를, df.shape[1]은 열의 수(6개)를 출력합니다."
   ]
  },
  {
   "cell_type": "code",
   "execution_count": null,
   "id": "d4ed92a5",
   "metadata": {},
   "outputs": [],
   "source": [
    "df.columns # df의 열 이름들을 출력합니다. country, continent, year, lifeExp, pop, gdpPercap이 있습니다."
   ]
  },
  {
   "cell_type": "code",
   "execution_count": null,
   "id": "2c747174",
   "metadata": {},
   "outputs": [],
   "source": [
    "print(df.dtypes) # 각 열의 데이터 타입을 출력합니다. \n",
    "# object는 문자열, int64는 정수, float64는 실수 타입을 나타냅니다."
   ]
  },
  {
   "cell_type": "code",
   "execution_count": null,
   "id": "c29329fe",
   "metadata": {},
   "outputs": [],
   "source": [
    "print(df.info()) # df의 요약 정보를 출력합니다. 각 열의 데이터 타입, 비어있지 않은 값의 개수, 메모리 사용량 등을 보여줍니다."
   ]
  },
  {
   "cell_type": "markdown",
   "id": "1a275f68",
   "metadata": {},
   "source": [
    "### 02-3 데이터 추출하기"
   ]
  },
  {
   "cell_type": "code",
   "execution_count": null,
   "id": "ad47a275",
   "metadata": {},
   "outputs": [],
   "source": [
    "print(df.head(10)) # df의 처음 10개 행을 출력합니다. 기본값은 5개입니다."
   ]
  },
  {
   "cell_type": "code",
   "execution_count": null,
   "id": "f1247f4c-2f9f-4522-953c-2dfc22ca521e",
   "metadata": {},
   "outputs": [],
   "source": [
    "print(df.tail()) # df의 마지막 5개 행을 출력합니다."
   ]
  },
  {
   "cell_type": "code",
   "execution_count": null,
   "id": "c48ff4e5",
   "metadata": {},
   "outputs": [],
   "source": [
    "year_df = df['year'] # df에서 'year' 열만 추출하여 year_df 변수에 저장하고 출력합니다.\n",
    "year_df # year_df는 Series 타입입니다."
   ]
  },
  {
   "cell_type": "markdown",
   "id": "8997f22e",
   "metadata": {},
   "source": [
    "### 열 데이터 추출하기"
   ]
  },
  {
   "cell_type": "markdown",
   "id": "9032e101",
   "metadata": {},
   "source": [
    "#### [실습] 문자열로 열 데이터 추출하기"
   ]
  },
  {
   "cell_type": "code",
   "execution_count": null,
   "id": "46982b8e-0a81-489b-a102-d4783ea04460",
   "metadata": {},
   "outputs": [],
   "source": [
    "country_df = df['country'] # df에서 'country' 열만 추출하여 country_df 변수에 저장하고 출력합니다.\n",
    "country_df"
   ]
  },
  {
   "cell_type": "code",
   "execution_count": null,
   "id": "9d610669",
   "metadata": {},
   "outputs": [],
   "source": [
    "print(country_df.head()) # country_df의 처음 5개 행을 출력합니다."
   ]
  },
  {
   "cell_type": "code",
   "execution_count": null,
   "id": "622f4973",
   "metadata": {},
   "outputs": [],
   "source": [
    "print(country_df.tail()) # country_df의 마지막 5개 행을 출력합니다."
   ]
  },
  {
   "cell_type": "markdown",
   "id": "48c05657",
   "metadata": {},
   "source": [
    "#### [Do It! 실습] 리스트로 열 데이터 추출하기"
   ]
  },
  {
   "cell_type": "code",
   "execution_count": null,
   "id": "45d5a82b",
   "metadata": {},
   "outputs": [],
   "source": [
    "subset = df[['country', 'continent', 'year']] # df에서 'country', 'continent', 'year' 열을 선택하여 subset 변수에 저장합니다.\n",
    "# 여러 열을 선택할 때는 이중 대괄호[[]]를 사용합니다."
   ]
  },
  {
   "cell_type": "code",
   "execution_count": null,
   "id": "36fb88f6",
   "metadata": {},
   "outputs": [],
   "source": [
    "print(subset) # subset의 내용을 출력합니다."
   ]
  },
  {
   "cell_type": "code",
   "execution_count": null,
   "id": "a24e0b42-2e58-4155-86e2-8491f6d34a88",
   "metadata": {},
   "outputs": [],
   "source": [
    "column_ls = ['country', 'continent', 'year'] # 변수에 열 이름 리스트를 저장한 후 이를 이용해 데이터프레임에서 열을 선택할 수도 있습니다.\n",
    "subset = df[column_ls]\n",
    "subset"
   ]
  },
  {
   "cell_type": "markdown",
   "id": "241ac5ed",
   "metadata": {},
   "source": [
    "#### [Do It! 실습] 두 추출 방법의 차이점 이해하기 "
   ]
  },
  {
   "cell_type": "code",
   "execution_count": null,
   "id": "685f668e",
   "metadata": {},
   "outputs": [],
   "source": [
    "country_df = df['country'] # df['country']로 추출할 경우 pandas.core.series.Series 타입이 됩니다.\n",
    "print(type(country_df))"
   ]
  },
  {
   "cell_type": "code",
   "execution_count": null,
   "id": "569ec564",
   "metadata": {},
   "outputs": [],
   "source": [
    "print(country_df) # country_df의 내용을 출력합니다."
   ]
  },
  {
   "cell_type": "code",
   "execution_count": null,
   "id": "4afc5cc5",
   "metadata": {},
   "outputs": [],
   "source": [
    "country_df_list = df[['country']] # df[['country']]로 추출할 경우 pandas.core.frame.DataFrame 타입이 됩니다.\n",
    "print(type(country_df_list)) # 단일 열이지만 데이터프레임 형태로 유지됩니다."
   ]
  },
  {
   "cell_type": "code",
   "execution_count": null,
   "id": "2e2f8f9e",
   "metadata": {},
   "outputs": [],
   "source": [
    "print(country_df_list) # country_df_list의 내용을 출력합니다. # 결과물이 데이터프레임 형태로 나타납니다."
   ]
  },
  {
   "cell_type": "markdown",
   "id": "4b7ad5f9",
   "metadata": {},
   "source": [
    "### 행 데이터 추출하기"
   ]
  },
  {
   "cell_type": "markdown",
   "id": "9b5da2f0",
   "metadata": {},
   "source": [
    "#### [실습] 행 이름으로 행 데이터 추출하기"
   ]
  },
  {
   "cell_type": "code",
   "execution_count": null,
   "id": "a3b6438a",
   "metadata": {},
   "outputs": [],
   "source": [
    "print(df) # df의 전체 내용을 출력합니다."
   ]
  },
  {
   "cell_type": "code",
   "execution_count": null,
   "id": "462a78e9",
   "metadata": {},
   "outputs": [],
   "source": [
    "print(df.loc[0]) # loc를 사용하여 인덱스 0인 행(첫 번째 행)을 추출합니다."
   ]
  },
  {
   "cell_type": "code",
   "execution_count": null,
   "id": "b05b8a75",
   "metadata": {},
   "outputs": [],
   "source": [
    "print(df.loc[99])"
   ]
  },
  {
   "cell_type": "code",
   "execution_count": null,
   "id": "1f7aca73-98e4-4227-9103-0175fa17af95",
   "metadata": {},
   "outputs": [],
   "source": [
    "df.iloc[:6, :6]"
   ]
  },
  {
   "cell_type": "code",
   "execution_count": null,
   "id": "1fd37c51",
   "metadata": {},
   "outputs": [],
   "source": [
    "print(df.iloc[-1])  # 오류"
   ]
  },
  {
   "cell_type": "code",
   "execution_count": null,
   "id": "9895d1f1",
   "metadata": {},
   "outputs": [],
   "source": [
    "# shape 속성을 사용하여 행의 개수 구하기\n",
    "number_of_rows = df.shape[0]\n",
    "\n",
    "# 행의 개수에서 1을 뺀 값으로 마지막 행의 인덱스 구하기\n",
    "last_row_index = number_of_rows - 1\n",
    "\n",
    "# 마지막 행의 인덱스로 데이터 추출하기\n",
    "print(df.loc[last_row_index])"
   ]
  },
  {
   "cell_type": "code",
   "execution_count": null,
   "id": "ba978643",
   "metadata": {},
   "outputs": [],
   "source": [
    "print(df.tail(n=1))"
   ]
  },
  {
   "cell_type": "code",
   "execution_count": null,
   "id": "58f690d8",
   "metadata": {},
   "outputs": [],
   "source": [
    "print(df.loc[[0, 99, 999]])"
   ]
  },
  {
   "cell_type": "markdown",
   "id": "891673ca",
   "metadata": {},
   "source": [
    "#### [Do It! 실습] 행 번호로 행 데이터 추출하기"
   ]
  },
  {
   "cell_type": "code",
   "execution_count": null,
   "id": "81376fb4",
   "metadata": {},
   "outputs": [],
   "source": [
    "print(df.iloc[1])"
   ]
  },
  {
   "cell_type": "code",
   "execution_count": null,
   "id": "4b871a46",
   "metadata": {},
   "outputs": [],
   "source": [
    "print(df.iloc[99])"
   ]
  },
  {
   "cell_type": "code",
   "execution_count": null,
   "id": "e0b10d72",
   "metadata": {},
   "outputs": [],
   "source": [
    "print(df.iloc[-1])"
   ]
  },
  {
   "cell_type": "code",
   "execution_count": null,
   "id": "212a96f1",
   "metadata": {},
   "outputs": [],
   "source": [
    "print(df.iloc[[0, 99, 999]])"
   ]
  },
  {
   "cell_type": "markdown",
   "id": "29d55164",
   "metadata": {},
   "source": [
    "### loc와 iloc로 데이터 추출하기"
   ]
  },
  {
   "cell_type": "markdown",
   "id": "92b44144",
   "metadata": {},
   "source": [
    "#### [실습] 슬라이싱 구문으로 데이터 추출하기"
   ]
  },
  {
   "cell_type": "code",
   "execution_count": null,
   "id": "7aebcdb5",
   "metadata": {
    "scrolled": true
   },
   "outputs": [],
   "source": [
    "subset = df.loc[:, ['year', 'pop']]\n",
    "print(subset)"
   ]
  },
  {
   "cell_type": "code",
   "execution_count": null,
   "id": "14bf5b4d",
   "metadata": {},
   "outputs": [],
   "source": [
    "subset = df.iloc[:, [2, 4, -1]]\n",
    "print(subset)"
   ]
  },
  {
   "cell_type": "code",
   "execution_count": null,
   "id": "cf68530e",
   "metadata": {},
   "outputs": [],
   "source": [
    "# subset = df.loc[:, [2, 4, -1]]  # 오류\n",
    "# print(subset)"
   ]
  },
  {
   "cell_type": "code",
   "execution_count": null,
   "id": "3f779ef1",
   "metadata": {},
   "outputs": [],
   "source": [
    "# subset = df.iloc[:, ['year', 'pop']]  # 오류\n",
    "# print(subset)"
   ]
  },
  {
   "cell_type": "markdown",
   "id": "4a224777",
   "metadata": {},
   "source": [
    "#### [실습] range()로 데이터 추출하기"
   ]
  },
  {
   "cell_type": "code",
   "execution_count": null,
   "id": "548c6f27",
   "metadata": {},
   "outputs": [],
   "source": [
    "small_range = list(range(5))\n",
    "print(small_range)"
   ]
  },
  {
   "cell_type": "code",
   "execution_count": null,
   "id": "058a723b",
   "metadata": {},
   "outputs": [],
   "source": [
    "subset = df.iloc[:, small_range]\n",
    "print(subset)"
   ]
  },
  {
   "cell_type": "code",
   "execution_count": null,
   "id": "9141542b",
   "metadata": {},
   "outputs": [],
   "source": [
    "small_range = list(range(3, 6))\n",
    "print(small_range)"
   ]
  },
  {
   "cell_type": "code",
   "execution_count": null,
   "id": "7524f3a8",
   "metadata": {},
   "outputs": [],
   "source": [
    "subset = df.iloc[:, small_range]\n",
    "print(subset)"
   ]
  },
  {
   "cell_type": "code",
   "execution_count": null,
   "id": "e2d4d1af",
   "metadata": {},
   "outputs": [],
   "source": [
    "small_range = list(range(0, 6, 2))\n",
    "subset = df.iloc[:, small_range]\n",
    "print(subset)"
   ]
  },
  {
   "cell_type": "markdown",
   "id": "75ed8953",
   "metadata": {},
   "source": [
    "#### [실습] 슬라이싱 구문과 range() 비교하기"
   ]
  },
  {
   "cell_type": "code",
   "execution_count": null,
   "id": "a59e2902",
   "metadata": {},
   "outputs": [],
   "source": [
    "print(df.columns)"
   ]
  },
  {
   "cell_type": "code",
   "execution_count": null,
   "id": "4dd2ab50",
   "metadata": {},
   "outputs": [],
   "source": [
    "small_range = list(range(3))\n",
    "subset = df.iloc[:, small_range]\n",
    "print(subset)"
   ]
  },
  {
   "cell_type": "code",
   "execution_count": null,
   "id": "25defd95",
   "metadata": {},
   "outputs": [],
   "source": [
    "subset = df.iloc[:, :3]\n",
    "print(subset)"
   ]
  },
  {
   "cell_type": "code",
   "execution_count": null,
   "id": "bdcfda31",
   "metadata": {},
   "outputs": [],
   "source": [
    "small_range = list(range(3, 6))\n",
    "subset = df.iloc[:, small_range]\n",
    "print(subset)"
   ]
  },
  {
   "cell_type": "code",
   "execution_count": null,
   "id": "caa3e2e0",
   "metadata": {},
   "outputs": [],
   "source": [
    "subset = df.iloc[:, 3:6]\n",
    "print(subset)"
   ]
  },
  {
   "cell_type": "code",
   "execution_count": null,
   "id": "6c0de75b",
   "metadata": {},
   "outputs": [],
   "source": [
    "small_range = list(range(0, 6, 2))\n",
    "subset = df.iloc[:, small_range]\n",
    "print(subset)"
   ]
  },
  {
   "cell_type": "code",
   "execution_count": null,
   "id": "9257cf6f",
   "metadata": {},
   "outputs": [],
   "source": [
    "subset = df.iloc[:, 0:6:2]\n",
    "print(subset)"
   ]
  },
  {
   "cell_type": "markdown",
   "id": "d8da1f11",
   "metadata": {},
   "source": [
    "### 행과 열 함께 지정하여 추출하기"
   ]
  },
  {
   "cell_type": "code",
   "execution_count": null,
   "id": "da8f3918",
   "metadata": {},
   "outputs": [],
   "source": [
    "print(df.loc[42, 'country'])"
   ]
  },
  {
   "cell_type": "code",
   "execution_count": null,
   "id": "7086da16",
   "metadata": {},
   "outputs": [],
   "source": [
    "print(df.iloc[42, 0])"
   ]
  },
  {
   "cell_type": "markdown",
   "id": "ea25615f",
   "metadata": {},
   "source": [
    "#### [실습] 여러 행과 열 지정하여 데이터 추출하기"
   ]
  },
  {
   "cell_type": "code",
   "execution_count": null,
   "id": "1fe6a364",
   "metadata": {},
   "outputs": [],
   "source": [
    "print(df.iloc[[0, 99, 999], [0, 3, 5]])"
   ]
  },
  {
   "cell_type": "code",
   "execution_count": null,
   "id": "7a0dcc1c",
   "metadata": {},
   "outputs": [],
   "source": [
    "print(df.loc[[0, 99, 999], ['country', 'lifeExp', 'gdpPercap']])"
   ]
  },
  {
   "cell_type": "markdown",
   "id": "b39a653a",
   "metadata": {},
   "source": [
    "### 02-4 기초 통계 계산하기"
   ]
  },
  {
   "cell_type": "code",
   "execution_count": null,
   "id": "02dd3ae9",
   "metadata": {},
   "outputs": [],
   "source": [
    "print(df)"
   ]
  },
  {
   "cell_type": "code",
   "execution_count": null,
   "id": "aa359115",
   "metadata": {},
   "outputs": [],
   "source": [
    "print(df.groupby('year')['lifeExp'].mean())"
   ]
  },
  {
   "cell_type": "code",
   "execution_count": null,
   "id": "0040c618",
   "metadata": {},
   "outputs": [],
   "source": [
    "grouped_year_df = df.groupby('year')\n",
    "print(type(grouped_year_df))"
   ]
  },
  {
   "cell_type": "code",
   "execution_count": null,
   "id": "54605e92",
   "metadata": {},
   "outputs": [],
   "source": [
    "print(grouped_year_df)"
   ]
  },
  {
   "cell_type": "code",
   "execution_count": null,
   "id": "382f1732",
   "metadata": {},
   "outputs": [],
   "source": [
    "grouped_year_df_lifeExp = grouped_year_df['lifeExp']\n",
    "print(type(grouped_year_df_lifeExp))"
   ]
  },
  {
   "cell_type": "code",
   "execution_count": null,
   "id": "cca69e0e",
   "metadata": {},
   "outputs": [],
   "source": [
    "print(grouped_year_df_lifeExp)"
   ]
  },
  {
   "cell_type": "code",
   "execution_count": null,
   "id": "a17ab225",
   "metadata": {},
   "outputs": [],
   "source": [
    "mean_lifeExp_by_year = grouped_year_df_lifeExp.mean()\n",
    "print(mean_lifeExp_by_year)"
   ]
  },
  {
   "cell_type": "markdown",
   "id": "2724c8a2",
   "metadata": {},
   "source": [
    "#### [실습] 2개 이상 열 그룹화화기"
   ]
  },
  {
   "cell_type": "code",
   "execution_count": null,
   "id": "e52e76b7",
   "metadata": {},
   "outputs": [],
   "source": [
    "multi_group_var = df.groupby(['year', 'continent'])[['lifeExp', 'gdpPercap']].mean()"
   ]
  },
  {
   "cell_type": "code",
   "execution_count": null,
   "id": "31503d33",
   "metadata": {},
   "outputs": [],
   "source": [
    "print(multi_group_var)"
   ]
  },
  {
   "cell_type": "code",
   "execution_count": null,
   "id": "5b70b701",
   "metadata": {},
   "outputs": [],
   "source": [
    "flat = multi_group_var.reset_index()\n",
    "print(flat)"
   ]
  },
  {
   "cell_type": "markdown",
   "id": "f3a06d32",
   "metadata": {},
   "source": [
    "### 그룹화한 데이터 개수 세기"
   ]
  },
  {
   "cell_type": "markdown",
   "id": "0dcd8938",
   "metadata": {},
   "source": [
    "#### [실습] 그룹화한 데이터 개수 구하기"
   ]
  },
  {
   "cell_type": "code",
   "execution_count": null,
   "id": "f9947833",
   "metadata": {},
   "outputs": [],
   "source": [
    "print(df.groupby('continent')['country'].nunique())"
   ]
  },
  {
   "cell_type": "code",
   "execution_count": null,
   "id": "010ca034",
   "metadata": {},
   "outputs": [],
   "source": [
    "print(df.groupby('continent')['country'].value_counts())"
   ]
  },
  {
   "cell_type": "markdown",
   "id": "559b9d7f",
   "metadata": {},
   "source": [
    "### 02-5 데이터를 그래프로 표현하려면?"
   ]
  },
  {
   "cell_type": "markdown",
   "id": "03709c93",
   "metadata": {},
   "source": [
    "#### [실습] 데이터프레임으로 그래프 그리기"
   ]
  },
  {
   "cell_type": "code",
   "execution_count": null,
   "id": "6b738cd9",
   "metadata": {},
   "outputs": [],
   "source": [
    "global_yearly_life_expectancy = df.groupby('year')['lifeExp'].mean()\n",
    "print(global_yearly_life_expectancy)"
   ]
  },
  {
   "cell_type": "code",
   "execution_count": null,
   "id": "b4cd8c55",
   "metadata": {},
   "outputs": [],
   "source": [
    "global_yearly_life_expectancy.plot()"
   ]
  },
  {
   "cell_type": "code",
   "execution_count": null,
   "id": "74dbdde9",
   "metadata": {},
   "outputs": [],
   "source": []
  }
 ],
 "metadata": {
  "kernelspec": {
   "display_name": "py312tf2",
   "language": "python",
   "name": "python3"
  },
  "language_info": {
   "codemirror_mode": {
    "name": "ipython",
    "version": 3
   },
   "file_extension": ".py",
   "mimetype": "text/x-python",
   "name": "python",
   "nbconvert_exporter": "python",
   "pygments_lexer": "ipython3",
   "version": "3.12.9"
  },
  "toc": {
   "base_numbering": 1,
   "nav_menu": {},
   "number_sections": false,
   "sideBar": false,
   "skip_h1_title": false,
   "title_cell": "Table of Contents",
   "title_sidebar": "Contents",
   "toc_cell": false,
   "toc_position": {
    "height": "1098.67px",
    "left": "633.867px",
    "top": "111.483px",
    "width": "255.467px"
   },
   "toc_section_display": true,
   "toc_window_display": true
  }
 },
 "nbformat": 4,
 "nbformat_minor": 5
}
