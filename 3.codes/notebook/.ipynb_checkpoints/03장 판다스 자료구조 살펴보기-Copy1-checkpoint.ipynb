{
 "cells": [
  {
   "cell_type": "markdown",
   "id": "791803b6",
   "metadata": {},
   "source": [
    "## 03-1 나만의 데이터 만들기"
   ]
  },
  {
   "cell_type": "markdown",
   "id": "ae2f34de",
   "metadata": {},
   "source": [
    "### 시리즈와 데이터프레임 만들기"
   ]
  },
  {
   "cell_type": "markdown",
   "id": "053bce3a",
   "metadata": {},
   "source": [
    "#### [실습] 시리즈 만들기"
   ]
  },
  {
   "cell_type": "code",
   "execution_count": null,
   "id": "9d5e9047",
   "metadata": {},
   "outputs": [],
   "source": [
    "import pandas as pd\n",
    "\n",
    "s = pd.Series(['banana', 42])\n",
    "print(s)"
   ]
  },
  {
   "cell_type": "code",
   "execution_count": null,
   "id": "63aa32d2",
   "metadata": {},
   "outputs": [],
   "source": [
    "s = pd.Series(data=['Wes McKinney', 'Creator of Pandas'], index=['Person', 'Who'])\n",
    "print(s)"
   ]
  },
  {
   "cell_type": "markdown",
   "id": "532d223e",
   "metadata": {},
   "source": [
    "#### [Do It! 실습] 데이터 프레임 만들기"
   ]
  },
  {
   "cell_type": "code",
   "execution_count": null,
   "id": "647e2c0d",
   "metadata": {},
   "outputs": [],
   "source": [
    "scientists = pd.DataFrame({\n",
    "        \"Name\": [\"Rosaline Franklin\", \"William Gosset\"],\n",
    "        \"Occupation\": [\"Chemist\", \"Statistician\"],\n",
    "        \"Born\": [\"1920-07-25\", \"1876-06-13\"],\n",
    "        \"Died\": [\"1958-04-16\", \"1937-10-16\"],\n",
    "        \"Age\": [37, 61],\n",
    "})\n",
    "\n",
    "print(scientists)"
   ]
  },
  {
   "cell_type": "code",
   "execution_count": null,
   "id": "c250363d",
   "metadata": {},
   "outputs": [],
   "source": [
    "scientists = pd.DataFrame(\n",
    "    data={\n",
    "        \"Occupation\": [\"Chemist\", \"Statistician\"],\n",
    "        \"Born\": [\"1920-07-25\", \"1876-06-13\"],\n",
    "        \"Died\": [\"1958-04-16\", \"1937-10-16\"],\n",
    "        \"Age\": [37, 61],\n",
    "    },\n",
    "    index=[\"Rosaline Franklin\", \"William Gosset\"],\n",
    "    columns=[\"Occupation\", \"Born\", \"Died\", \"Age\"],\n",
    ")\n",
    "\n",
    "print(scientists)"
   ]
  },
  {
   "cell_type": "markdown",
   "id": "6bafaa66",
   "metadata": {},
   "source": [
    "## 03-2 시리즈 다루기"
   ]
  },
  {
   "cell_type": "markdown",
   "id": "a42fcd48",
   "metadata": {},
   "source": [
    "#### [실습] 시리즈 추출하기"
   ]
  },
  {
   "cell_type": "code",
   "execution_count": null,
   "id": "b3c45970",
   "metadata": {},
   "outputs": [],
   "source": [
    "scientists = pd.DataFrame(\n",
    "    data={\n",
    "        \"Occupation\": [\"Chemist\", \"Statistician\"],\n",
    "        \"Born\": [\"1920-07-25\", \"1876-06-13\"],\n",
    "        \"Died\": [\"1958-04-16\", \"1937-10-16\"],\n",
    "        \"Age\": [37, 61],\n",
    "    },\n",
    "    index=[\"Rosaline Franklin\", \"William Gosset\"],\n",
    "    columns=[\"Occupation\", \"Born\", \"Died\", \"Age\"],\n",
    ")\n",
    "\n",
    "print(scientists)"
   ]
  },
  {
   "cell_type": "code",
   "execution_count": null,
   "id": "916d4b13",
   "metadata": {},
   "outputs": [],
   "source": [
    "first_row = scientists.loc['William Gosset']\n",
    "print(type(first_row))"
   ]
  },
  {
   "cell_type": "code",
   "execution_count": null,
   "id": "e8ab3b80",
   "metadata": {},
   "outputs": [],
   "source": [
    "print(first_row)"
   ]
  },
  {
   "cell_type": "code",
   "execution_count": null,
   "id": "c0904e9b",
   "metadata": {},
   "outputs": [],
   "source": [
    "print(first_row.index)"
   ]
  },
  {
   "cell_type": "code",
   "execution_count": null,
   "id": "e574b6a5",
   "metadata": {},
   "outputs": [],
   "source": [
    "print(first_row.values)"
   ]
  },
  {
   "cell_type": "markdown",
   "id": "d13f1f32",
   "metadata": {},
   "source": [
    "### 시리즈의 keys() 메서드"
   ]
  },
  {
   "cell_type": "code",
   "execution_count": null,
   "id": "b48633b4",
   "metadata": {},
   "outputs": [],
   "source": [
    "print(first_row.keys())"
   ]
  },
  {
   "cell_type": "code",
   "execution_count": null,
   "id": "3ffd68c8",
   "metadata": {},
   "outputs": [],
   "source": [
    "print(first_row.index[0])"
   ]
  },
  {
   "cell_type": "code",
   "execution_count": null,
   "id": "5f35d384",
   "metadata": {},
   "outputs": [],
   "source": [
    "print(first_row.keys()[0])"
   ]
  },
  {
   "cell_type": "markdown",
   "id": "aecc8574",
   "metadata": {},
   "source": [
    "### 시리즈와 ndarray"
   ]
  },
  {
   "cell_type": "markdown",
   "id": "7813ee5e",
   "metadata": {},
   "source": [
    "#### [Do It! 실습] 시리즈의 메서드 사용하기"
   ]
  },
  {
   "cell_type": "code",
   "execution_count": null,
   "id": "a2107720",
   "metadata": {},
   "outputs": [],
   "source": [
    "ages = scientists['Age']\n",
    "print(ages)"
   ]
  },
  {
   "cell_type": "code",
   "execution_count": null,
   "id": "dcdba06a",
   "metadata": {},
   "outputs": [],
   "source": [
    "# 평균\n",
    "print(ages.mean())"
   ]
  },
  {
   "cell_type": "code",
   "execution_count": null,
   "id": "7720e212",
   "metadata": {},
   "outputs": [],
   "source": [
    "# 최솟값\n",
    "print(ages.min())"
   ]
  },
  {
   "cell_type": "code",
   "execution_count": null,
   "id": "d01ef373",
   "metadata": {},
   "outputs": [],
   "source": [
    "# 최댓값\n",
    "print(ages.max())"
   ]
  },
  {
   "cell_type": "code",
   "execution_count": null,
   "id": "c2972fa7",
   "metadata": {},
   "outputs": [],
   "source": [
    "# 표준 편차\n",
    "print(ages.std())"
   ]
  },
  {
   "cell_type": "markdown",
   "id": "93e9f132",
   "metadata": {},
   "source": [
    "### 시리즈와 불리언"
   ]
  },
  {
   "cell_type": "code",
   "execution_count": null,
   "id": "b2fff903",
   "metadata": {},
   "outputs": [],
   "source": [
    "scientists = pd.read_csv('../data/scientists.csv')"
   ]
  },
  {
   "cell_type": "markdown",
   "id": "f7a81e79",
   "metadata": {},
   "source": [
    "#### [실습] 기술 통계량 계산하기"
   ]
  },
  {
   "cell_type": "code",
   "execution_count": null,
   "id": "8a4b792a",
   "metadata": {},
   "outputs": [],
   "source": [
    "ages = scientists['Age']\n",
    "print(ages)"
   ]
  },
  {
   "cell_type": "code",
   "execution_count": null,
   "id": "d0d2c0c8",
   "metadata": {},
   "outputs": [],
   "source": [
    "print(ages.describe())"
   ]
  },
  {
   "cell_type": "code",
   "execution_count": null,
   "id": "5d020d24",
   "metadata": {},
   "outputs": [],
   "source": [
    "print(ages.mean())"
   ]
  },
  {
   "cell_type": "code",
   "execution_count": null,
   "id": "deb2a872",
   "metadata": {},
   "outputs": [],
   "source": [
    "print(ages[ages > ages.mean()])"
   ]
  },
  {
   "cell_type": "code",
   "execution_count": null,
   "id": "656be7fb",
   "metadata": {},
   "outputs": [],
   "source": [
    "print(ages > ages.mean())"
   ]
  },
  {
   "cell_type": "code",
   "execution_count": null,
   "id": "b3eb2f15",
   "metadata": {},
   "outputs": [],
   "source": [
    "print(type(ages > ages.mean()))"
   ]
  },
  {
   "cell_type": "code",
   "execution_count": null,
   "id": "905bab93",
   "metadata": {},
   "outputs": [],
   "source": [
    "# 수동으로 불리언 마스크 만들어서 데이터 필터링하기\n",
    "manual_bool_values = [\n",
    "    True,   # 0\n",
    "    True,   # 1\n",
    "    False,  # 2\n",
    "    False,  # 3\n",
    "    True,   # 4\n",
    "    True,   # 5\n",
    "    False,  # 6\n",
    "    True,   # 7                 # 각 행에 대한 선택 여부\n",
    "]\n",
    "print(ages[manual_bool_values]) # True인 위치의 데이터만 선택됨"
   ]
  },
  {
   "cell_type": "markdown",
   "id": "6a1f00a2",
   "metadata": {},
   "source": [
    "### 시리즈와 브로드캐스팅"
   ]
  },
  {
   "cell_type": "markdown",
   "id": "75367733",
   "metadata": {},
   "source": [
    "#### [실습] 벡터와 벡터, 벡터와 스칼라 계산하기"
   ]
  },
  {
   "cell_type": "code",
   "execution_count": null,
   "id": "e9d7dd01",
   "metadata": {},
   "outputs": [],
   "source": [
    "# 같은 크기의 시리즈끼리 연산 (벡터 + 벡터)\n",
    "print(ages + ages)  # 각 요소별로 더해짐"
   ]
  },
  {
   "cell_type": "code",
   "execution_count": null,
   "id": "e30adc42",
   "metadata": {},
   "outputs": [],
   "source": [
    "print(ages * ages)  # 각 요소별로 제곱됨"
   ]
  },
  {
   "cell_type": "code",
   "execution_count": null,
   "id": "f8f29f8b",
   "metadata": {},
   "outputs": [],
   "source": [
    "# 시리즈와 스칼라 연산 (벡터 + 스칼라)\n",
    "print(ages + 100)   # 모든 요소에 100 더해짐"
   ]
  },
  {
   "cell_type": "code",
   "execution_count": null,
   "id": "25a83405",
   "metadata": {},
   "outputs": [],
   "source": [
    "print(ages * 2)     # 모든 요소에 2 곱해짐"
   ]
  },
  {
   "cell_type": "markdown",
   "id": "2ff14dbf",
   "metadata": {},
   "source": [
    "#### [Do It! 실습] 길이가 서로 다른 벡터 연산하기"
   ]
  },
  {
   "cell_type": "code",
   "execution_count": null,
   "id": "1e7e4029",
   "metadata": {},
   "outputs": [],
   "source": [
    "# 길이가 다른 시리즈 간 연산\n",
    "print(ages + pd.Series([1, 100]))  # 결과: 같은 인덱스끼리만 연산되고, 나머지는 NaN이 됨\n",
    "# 인덱스 0, 1에 대해서만 연산이 이루어지고 나머지는 NaN\n",
    "# null 값 제거가 중요한 이유"
   ]
  },
  {
   "cell_type": "code",
   "execution_count": null,
   "id": "4bea80a1",
   "metadata": {},
   "outputs": [],
   "source": [
    "import numpy as np\n",
    "\n",
    "# print(ages + np.array([1, 100]))  # 오류"
   ]
  },
  {
   "cell_type": "markdown",
   "id": "012018c8",
   "metadata": {},
   "source": [
    "#### [실습] 인덱스가 같은 벡터 자동 정렬하기"
   ]
  },
  {
   "cell_type": "code",
   "execution_count": null,
   "id": "cd7a4a6e",
   "metadata": {},
   "outputs": [],
   "source": [
    "# 인덱스 순서가 다른 시리즈 연산\n",
    "rev_ages = ages.sort_index(ascending=False) # 인덱스 역순으로 정렬\n",
    "print(rev_ages) # 인덱스 역순으로 정렬된 시리즈"
   ]
  },
  {
   "cell_type": "code",
   "execution_count": null,
   "id": "4fd3b0b2",
   "metadata": {},
   "outputs": [],
   "source": [
    "print(ages * 2)  # 정상적인 연산"
   ]
  },
  {
   "cell_type": "code",
   "execution_count": null,
   "id": "4ad6daa3",
   "metadata": {},
   "outputs": [],
   "source": [
    "# 인덱스가 다른 순서라도 같은 인덱스끼리 연산됨\n",
    "print(ages + rev_ages)  # 인덱스 기준으로 자동 정렬되어 연산됨\n",
    "# 결과적으로 동일한 인덱스끼리 더해진 결과가 나옴"
   ]
  },
  {
   "cell_type": "markdown",
   "id": "0c3c014b",
   "metadata": {},
   "source": [
    "## 03-3 데이터프레임 다루기"
   ]
  },
  {
   "cell_type": "markdown",
   "id": "e2ee22b4",
   "metadata": {},
   "source": [
    "### 데이터프레임의 구성"
   ]
  },
  {
   "cell_type": "code",
   "execution_count": null,
   "id": "e0601d89",
   "metadata": {},
   "outputs": [],
   "source": [
    "# 데이터프레임의 인덱스, 컬럼, 값 확인\n",
    "scientists.index # 행 인덱스 (RangeIndex(start=0, stop=8, step=1))"
   ]
  },
  {
   "cell_type": "code",
   "execution_count": null,
   "id": "06070d6b",
   "metadata": {},
   "outputs": [],
   "source": [
    "scientists.columns # 열 인덱스 (Index(['Name', 'Born', 'Died', 'Age', 'Occupation'], dtype='object'))"
   ]
  },
  {
   "cell_type": "code",
   "execution_count": null,
   "id": "7a5bcf0c",
   "metadata": {},
   "outputs": [],
   "source": [
    "scientists.values # 데이터 값들 (numpy 2차원 배열 형태)"
   ]
  },
  {
   "cell_type": "markdown",
   "id": "5738c609",
   "metadata": {},
   "source": [
    "### 데이터프레임과 불리언 추출"
   ]
  },
  {
   "cell_type": "code",
   "execution_count": null,
   "id": "5507fe80",
   "metadata": {},
   "outputs": [],
   "source": [
    "# 데이터프레임에 불리언 마스킹 적용\n",
    "print(scientists.loc[scientists['Age'] > scientists['Age'].mean()])\n",
    "# scientists['Age'] > scientists['Age'].mean()은 불리언 시리즈를 반환하고\n",
    "# .loc[] 인덱서에 이 불리언 시리즈를 전달하여 조건을 만족하는 행만 선택"
   ]
  },
  {
   "cell_type": "markdown",
   "id": "4d9da2fd",
   "metadata": {},
   "source": [
    "### 데이터프레임과 브로드캐스팅"
   ]
  },
  {
   "cell_type": "markdown",
   "id": "f010c834",
   "metadata": {},
   "source": [
    "#### [실습] 데이터프레임을 대상으로 연산하기"
   ]
  },
  {
   "cell_type": "code",
   "execution_count": null,
   "id": "8af4d8fe",
   "metadata": {},
   "outputs": [],
   "source": [
    "# 데이터프레임 분할하기\n",
    "first_half = scientists[:4] # 앞 4개 행\n",
    "second_half = scientists[4:] # 뒤 4개 행\n",
    "\n",
    "print(first_half)"
   ]
  },
  {
   "cell_type": "code",
   "execution_count": null,
   "id": "2f600197",
   "metadata": {},
   "outputs": [],
   "source": [
    "print(second_half)"
   ]
  },
  {
   "cell_type": "code",
   "execution_count": null,
   "id": "473f71c4",
   "metadata": {},
   "outputs": [],
   "source": [
    "# 데이터프레임과 스칼라 연산\n",
    "print(scientists * 2) # 문자열은 반복, 숫자는 곱셈이 이루어짐"
   ]
  },
  {
   "cell_type": "code",
   "execution_count": null,
   "id": "d7ad55af",
   "metadata": {},
   "outputs": [],
   "source": [
    "# 동일한 형태의 데이터프레임 간 연산\n",
    "df1 = df2 = pd.DataFrame(data=[[1, 2, 3], [4, 5, 6], [7, 8, 9]]) # df1 + df2와 동일\n",
    "\n",
    "df_added = df1.add(df2)\n",
    "print(df_added) # 대응하는 위치의 요소끼리 더해짐"
   ]
  },
  {
   "cell_type": "markdown",
   "id": "297a5745",
   "metadata": {},
   "source": [
    "## 03-4 시리즈와 데이터프레임 데이터 변경하기"
   ]
  },
  {
   "cell_type": "markdown",
   "id": "62ed3774",
   "metadata": {},
   "source": [
    "#### [실습] 열 추가하기"
   ]
  },
  {
   "cell_type": "code",
   "execution_count": null,
   "id": "922a9c6c",
   "metadata": {},
   "outputs": [],
   "source": [
    "# 데이터 타입 확인\n",
    "print(scientists.dtypes) # 각 열의 데이터 타입 출력"
   ]
  },
  {
   "cell_type": "code",
   "execution_count": null,
   "id": "a9454cb0",
   "metadata": {},
   "outputs": [],
   "source": [
    "# 날짜 데이터를 datetime 타입으로 변환\n",
    "born_datetime = pd.to_datetime(scientists['Born'], format='%Y-%m-%d') \n",
    "print(born_datetime) # datetime64[ns] 타입의 시리즈"
   ]
  },
  {
   "cell_type": "code",
   "execution_count": null,
   "id": "eb309ab6",
   "metadata": {},
   "outputs": [],
   "source": [
    "died_datetime = pd.to_datetime(scientists['Died'], format='%Y-%m-%d')"
   ]
  },
  {
   "cell_type": "code",
   "execution_count": null,
   "id": "786b1117",
   "metadata": {},
   "outputs": [],
   "source": [
    "# 새로운 열 추가하기\n",
    "scientists['born_dt'], scientists['died_dt'] = (born_datetime, died_datetime)"
   ]
  },
  {
   "cell_type": "code",
   "execution_count": null,
   "id": "9d8814dc",
   "metadata": {},
   "outputs": [],
   "source": [
    "print(scientists.head()) # 새로운 열이 추가된 데이터프레임 확인"
   ]
  },
  {
   "cell_type": "code",
   "execution_count": null,
   "id": "25ac723d",
   "metadata": {},
   "outputs": [],
   "source": [
    "print(scientists.shape) # (8, 7) - 7개 열로 증가"
   ]
  },
  {
   "cell_type": "code",
   "execution_count": null,
   "id": "d7a27234",
   "metadata": {},
   "outputs": [],
   "source": [
    "print(scientists.dtypes) # born_dt, died_dt가 datetime64[ns] 타입으로 추가됨"
   ]
  },
  {
   "cell_type": "markdown",
   "id": "48678753",
   "metadata": {},
   "source": [
    "#### [Do It! 실습] 열 내용 변경하기"
   ]
  },
  {
   "cell_type": "code",
   "execution_count": null,
   "id": "3fcf23db",
   "metadata": {},
   "outputs": [],
   "source": [
    "print(scientists['Age']) # 현재 Age 열 확인"
   ]
  },
  {
   "cell_type": "code",
   "execution_count": null,
   "id": "ac4587ff",
   "metadata": {},
   "outputs": [],
   "source": [
    "# sample() 메서드로 랜덤하게 섞기\n",
    "print(scientists[\"Age\"].sample(frac=1, random_state=42))\n",
    "# frac=1: 모든 데이터 사용, random_state=42: 재현 가능한 랜덤 시드 설정"
   ]
  },
  {
   "cell_type": "code",
   "execution_count": null,
   "id": "e2cfbd61",
   "metadata": {},
   "outputs": [],
   "source": [
    "# 시리즈 섞기 시도 (원본 데이터가 변경되지 않음)\n",
    "scientists[\"Age\"] = scientists[\"Age\"].sample(frac=1, random_state=42)\n",
    "print(scientists['Age']) # 변경되지 않고 원래 순서 유지"
   ]
  },
  {
   "cell_type": "code",
   "execution_count": null,
   "id": "8a08971f",
   "metadata": {},
   "outputs": [],
   "source": [
    "# .values 속성을 이용하여 실제로 데이터 변경하기\n",
    "scientists[\"Age\"] = scientists[\"Age\"].sample(frac=1, random_state=42).values\n",
    "print(scientists['Age']) # 실제로 값이 섞임"
   ]
  },
  {
   "cell_type": "code",
   "execution_count": null,
   "id": "e7d4b8ae",
   "metadata": {},
   "outputs": [],
   "source": [
    "# 날짜 차이를 계산하여 새로운 열 추가\n",
    "scientists['age_days'] = (scientists['died_dt'] - scientists['born_dt'])\n",
    "print(scientists) # age_days 열이 timedelta 타입으로 추가됨"
   ]
  },
  {
   "cell_type": "code",
   "execution_count": null,
   "id": "2f4186be",
   "metadata": {},
   "outputs": [],
   "source": [
    "# 일수를 년수로 변환하여 새로운 열 추가\n",
    "# scientists['age_years'] = (scientists['age_days'].astype('timedelta64[Y]'))  # pandas 2.0.3 오류\n",
    "scientists['age_years'] = (scientists['age_days'].dt.days / 365).apply(np.floor) # 날짜 수를 햇수로 변환\n",
    "# age_years 열 추가됨\n",
    "\n",
    "print(scientists)"
   ]
  },
  {
   "cell_type": "markdown",
   "id": "f59a0248",
   "metadata": {},
   "source": [
    "#### [실습] assign()으로 열 수정하기 "
   ]
  },
  {
   "cell_type": "code",
   "execution_count": null,
   "id": "ce6d0cef",
   "metadata": {},
   "outputs": [],
   "source": [
    "# assign() 메서드로 여러 개의 열을 한 번에 추가하기\n",
    "scientists = scientists.assign(\n",
    "    age_days_assign=scientists['died_dt'] - scientists['born_dt'],\n",
    "    # age_year_assign=scientists['age_days'].astype('timedelta64[Y]'))  # pandas 2.0.3 오류\n",
    "    age_year_assign=(scientists['age_days'].dt.days / 365).apply(np.floor)\n",
    ")\n",
    "print(scientists) # 새로운 열들이 추가됨"
   ]
  },
  {
   "cell_type": "markdown",
   "id": "acecfb7a",
   "metadata": {},
   "source": [
    "##### <한 걸음 더!> 다른 방법으로 나이 계산하기"
   ]
  },
  {
   "cell_type": "code",
   "execution_count": null,
   "id": "e14b4e07",
   "metadata": {},
   "outputs": [],
   "source": [
    "# assign() 메서드에 람다 함수 사용하기\n",
    "scientists = scientists.assign(\n",
    "    age_days_assign=scientists[\"died_dt\"] - scientists[\"born_dt\"],\n",
    "    # age_year_assign=lambda df_: df_[\"age_days_assign\"].astype(\"timedelta64[Y]\"),  # pandas 2.0.3 오류\n",
    "    age_year_assign=lambda df_: (df_[\"age_days_assign\"].dt.days / 365).apply(np.floor), \n",
    ")\n",
    "print(scientists) # lambda를 사용하여 이전에 정의한 열을 참조할 수 있음"
   ]
  },
  {
   "cell_type": "markdown",
   "id": "56964d40",
   "metadata": {},
   "source": [
    "#### [실습] 열 삭제하기"
   ]
  },
  {
   "cell_type": "code",
   "execution_count": null,
   "id": "621949ae",
   "metadata": {},
   "outputs": [],
   "source": [
    "# 현재 열 목록 확인\n",
    "print(scientists.columns)"
   ]
  },
  {
   "cell_type": "code",
   "execution_count": null,
   "id": "ebe1e85e",
   "metadata": {},
   "outputs": [],
   "source": [
    "# drop() 메서드로 열 삭제하기\n",
    "scientists_dropped = scientists.drop(['Age'], axis=\"columns\")\n",
    "# axis=\"columns\": 열 방향으로 삭제 (axis=1과 동일)"
   ]
  },
  {
   "cell_type": "code",
   "execution_count": null,
   "id": "d5d8a6d4",
   "metadata": {},
   "outputs": [],
   "source": [
    "# 삭제 후 열 목록 확인\n",
    "print(scientists_dropped.columns) # 'Age' 열이 사라짐"
   ]
  },
  {
   "cell_type": "markdown",
   "id": "d3c8dd7d",
   "metadata": {},
   "source": [
    "## 03-5 데이터 저장하고 불러오기"
   ]
  },
  {
   "cell_type": "markdown",
   "id": "b2f7cbe5",
   "metadata": {},
   "source": [
    "### 피클로 저장하고 불러오기"
   ]
  },
  {
   "cell_type": "markdown",
   "id": "e510feeb",
   "metadata": {},
   "source": [
    "#### [실습] 시리즈와 데이터프레임 저장하기"
   ]
  },
  {
   "cell_type": "code",
   "execution_count": null,
   "id": "3a1306f3",
   "metadata": {},
   "outputs": [],
   "source": [
    "# 시리즈 추출하기\n",
    "names = scientists['Name']\n",
    "print(names)"
   ]
  },
  {
   "cell_type": "code",
   "execution_count": null,
   "id": "ee00f574",
   "metadata": {},
   "outputs": [],
   "source": [
    "# 피클로 저장하기\n",
    "names.to_pickle('../output/scientists_names_series.pickle')"
   ]
  },
  {
   "cell_type": "code",
   "execution_count": null,
   "id": "1510766c",
   "metadata": {},
   "outputs": [],
   "source": [
    "scientists.to_pickle('../output/scientists_df.pickle')"
   ]
  },
  {
   "cell_type": "markdown",
   "id": "1abc7a8b",
   "metadata": {},
   "source": [
    "#### [실습] 피클 데이터 읽어 오기"
   ]
  },
  {
   "cell_type": "code",
   "execution_count": null,
   "id": "4e23f1cd",
   "metadata": {},
   "outputs": [],
   "source": [
    "# 피클 파일 읽기\n",
    "series_pickle = pd.read_pickle('../output/scientists_names_series.pickle')\n",
    "print(series_pickle) # 원래 시리즈와 동일한 데이터 복원"
   ]
  },
  {
   "cell_type": "code",
   "execution_count": null,
   "id": "15324a2b",
   "metadata": {},
   "outputs": [],
   "source": [
    "dataframe_pickle = pd.read_pickle('../output/scientists_df.pickle')\n",
    "print(dataframe_pickle) # 원래 데이터프레임과 동일한 데이터 복원"
   ]
  },
  {
   "cell_type": "markdown",
   "id": "5a42426b",
   "metadata": {},
   "source": [
    "### CSV와 TSV 파일로 저장하고 불러오기"
   ]
  },
  {
   "cell_type": "code",
   "execution_count": null,
   "id": "b0930a3f",
   "metadata": {},
   "outputs": [],
   "source": [
    "# CSV 파일로 저장하기\n",
    "scientists.to_csv('../output/scientists_df_no_index.csv', index=False)\n",
    "# index=False: 인덱스는 저장하지 않음"
   ]
  },
  {
   "cell_type": "markdown",
   "id": "6971ce7b",
   "metadata": {},
   "source": [
    "### 엑셀로 저장하기"
   ]
  },
  {
   "cell_type": "markdown",
   "id": "8fb7bd90",
   "metadata": {},
   "source": [
    "#### [실습] 시리즈와 데이터프레임 저장하기"
   ]
  },
  {
   "cell_type": "code",
   "execution_count": null,
   "id": "34ad1451",
   "metadata": {},
   "outputs": [],
   "source": [
    "#!pip install openpyxl  # openpyxl이 없다면 주석을 제거하고 설치하세요."
   ]
  },
  {
   "cell_type": "code",
   "execution_count": null,
   "id": "9131d8a1",
   "metadata": {},
   "outputs": [],
   "source": [
    "# 시리즈를 엑셀로 저장하기 위해 데이터프레임으로 변환\n",
    "names = scientists['Name']\n",
    "print(names)"
   ]
  },
  {
   "cell_type": "code",
   "execution_count": null,
   "id": "231f702a",
   "metadata": {},
   "outputs": [],
   "source": [
    "names_df = names.to_frame()"
   ]
  },
  {
   "cell_type": "code",
   "execution_count": null,
   "id": "8654808a",
   "metadata": {},
   "outputs": [],
   "source": [
    "names_df.to_excel('../output/scientists_names_series_df.xls',\n",
    "                  engine='openpyxl')"
   ]
  },
  {
   "cell_type": "code",
   "execution_count": null,
   "id": "51e5d8e5",
   "metadata": {},
   "outputs": [],
   "source": [
    "# 데이터프레임을 엑셀로 저장하기\n",
    "scientists.to_excel(\"../output/scientists_df.xlsx\",\n",
    "                    sheet_name=\"scientists\", # 시트 이름 지정\n",
    "                    index=False) # 인덱스 제외"
   ]
  },
  {
   "cell_type": "markdown",
   "id": "5023b58f",
   "metadata": {},
   "source": [
    "### 다양한 형식으로 저장하기"
   ]
  },
  {
   "cell_type": "markdown",
   "id": "66e44d3e",
   "metadata": {},
   "source": [
    "#### [실습] feather 파일로 저장하기"
   ]
  },
  {
   "cell_type": "code",
   "execution_count": null,
   "id": "89ff1034",
   "metadata": {},
   "outputs": [],
   "source": [
    "#!pip install pyarrow  # pyarrow가 없다면 주석을 제거하고 설치하세요."
   ]
  },
  {
   "cell_type": "code",
   "execution_count": null,
   "id": "df42e805",
   "metadata": {},
   "outputs": [],
   "source": [
    "# feather 형식으로 저장하기\n",
    "scientists.to_feather('../output/scientists.feather')"
   ]
  },
  {
   "cell_type": "code",
   "execution_count": null,
   "id": "72ed82d2",
   "metadata": {},
   "outputs": [],
   "source": [
    "# feather 파일 읽기\n",
    "sci_feather = pd.read_feather('../output/scientists.feather')\n",
    "print(sci_feather) # 원본과 동일한 데이터프레임 복원"
   ]
  },
  {
   "cell_type": "markdown",
   "id": "daa33bd3",
   "metadata": {},
   "source": [
    "#### [실습] 딕셔너리로 변환하기"
   ]
  },
  {
   "cell_type": "code",
   "execution_count": null,
   "id": "bf261336",
   "metadata": {},
   "outputs": [],
   "source": [
    "# 데이터프레임 일부 선택\n",
    "sci_sub_dict = scientists.head(2) # 앞 2개 행만 선택"
   ]
  },
  {
   "cell_type": "code",
   "execution_count": null,
   "id": "de86535b",
   "metadata": {},
   "outputs": [],
   "source": [
    "# 딕셔너리로 변환\n",
    "sci_dict = sci_sub_dict.to_dict() "
   ]
  },
  {
   "cell_type": "code",
   "execution_count": null,
   "id": "880b85a8",
   "metadata": {},
   "outputs": [],
   "source": [
    "import pprint\n",
    "pprint.pprint(sci_dict) # 중첩 딕셔너리 형태로 출력됨"
   ]
  },
  {
   "cell_type": "code",
   "execution_count": null,
   "id": "cc706fb0",
   "metadata": {},
   "outputs": [],
   "source": [
    "# 딕셔너리에서 다시 데이터프레임 생성\n",
    "sci_dict_df = pd.DataFrame.from_dict(sci_dict)\n",
    "print(sci_dict_df) # 원래 데이터프레임으로 복원"
   ]
  },
  {
   "cell_type": "markdown",
   "id": "41835ae9",
   "metadata": {},
   "source": [
    "#### [실습] JSON으로 저장하기"
   ]
  },
  {
   "cell_type": "code",
   "execution_count": null,
   "id": "8b3bcfae",
   "metadata": {},
   "outputs": [],
   "source": [
    "# JSON 형식으로 변환\n",
    "sci_json = sci_sub_dict.to_json(orient='records', indent=2, date_format=\"iso\")\n",
    "# 레코드(행) 단위로 변환 # 들여쓰기 2칸 # 날짜 ISO 형식으로\n",
    "pprint.pprint(sci_json) # JSON 문자열 출력"
   ]
  },
  {
   "cell_type": "code",
   "execution_count": null,
   "id": "bf436259",
   "metadata": {},
   "outputs": [],
   "source": [
    "# JSON 문자열에서 데이터프레임 생성\n",
    "sci_json_df = pd.read_json(\n",
    "    ('[\\n'\n",
    " '  {\\n'\n",
    " '    \"Name\":\"Rosaline Franklin\",\\n'\n",
    " '    \"Born\":\"1920-07-25\",\\n'\n",
    " '    \"Died\":\"1958-04-16\",\\n'\n",
    " '    \"Age\":61,\\n'\n",
    " '    \"Occupation\":\"Chemist\",\\n'\n",
    " '    \"born_dt\":\"1920-07-25T00:00:00.000\",\\n'\n",
    " '    \"died_dt\":\"1958-04-16T00:00:00.000\",\\n'\n",
    " '    \"age_days\":\"P13779DT0H0M0S\",\\n'\n",
    " '    \"age_years\":37.0,\\n'\n",
    " '    \"age_days_assign\":\"P13779DT0H0M0S\",\\n'\n",
    " '    \"age_year_assign\":37.0\\n'\n",
    " '  },\\n'\n",
    " '  {\\n'\n",
    " '    \"Name\":\"William Gosset\",\\n'\n",
    " '    \"Born\":\"1876-06-13\",\\n'\n",
    " '    \"Died\":\"1937-10-16\",\\n'\n",
    " '    \"Age\":45,\\n'\n",
    " '    \"Occupation\":\"Statistician\",\\n'\n",
    " '    \"born_dt\":\"1876-06-13T00:00:00.000\",\\n'\n",
    " '    \"died_dt\":\"1937-10-16T00:00:00.000\",\\n'\n",
    " '    \"age_days\":\"P22404DT0H0M0S\",\\n'\n",
    " '    \"age_years\":61.0,\\n'\n",
    " '    \"age_days_assign\":\"P22404DT0H0M0S\",\\n'\n",
    " '    \"age_year_assign\":61.0\\n'\n",
    " '  }\\n'\n",
    " ']'),\n",
    "     orient=\"records\"\n",
    ")\n",
    "print(sci_json_df)"
   ]
  },
  {
   "cell_type": "code",
   "execution_count": null,
   "id": "fb9656b3",
   "metadata": {},
   "outputs": [],
   "source": [
    "# 데이터 타입 확인\n",
    "print(sci_json_df.dtypes) # JSON 변환 과정에서 일부 데이터 타입이 변경됨"
   ]
  },
  {
   "cell_type": "code",
   "execution_count": null,
   "id": "dd4ce3f5",
   "metadata": {},
   "outputs": [],
   "source": [
    "# datetime 타입으로 변환\n",
    "sci_json_df[\"died_dt_json\"] = pd.to_datetime(sci_json_df[\"died_dt\"])\n",
    "print(sci_json_df) # died_dt_json 열이 datetime64[ns] 타입으로 추가됨"
   ]
  },
  {
   "cell_type": "code",
   "execution_count": null,
   "id": "635c43fc",
   "metadata": {},
   "outputs": [],
   "source": [
    "print(sci_json_df.dtypes) # 타입 변경 확인"
   ]
  }
 ],
 "metadata": {
  "kernelspec": {
   "display_name": "py312tf2",
   "language": "python",
   "name": "python3"
  },
  "language_info": {
   "codemirror_mode": {
    "name": "ipython",
    "version": 3
   },
   "file_extension": ".py",
   "mimetype": "text/x-python",
   "name": "python",
   "nbconvert_exporter": "python",
   "pygments_lexer": "ipython3",
   "version": "3.12.9"
  },
  "toc": {
   "base_numbering": 1,
   "nav_menu": {},
   "number_sections": false,
   "sideBar": false,
   "skip_h1_title": false,
   "title_cell": "Table of Contents",
   "title_sidebar": "Contents",
   "toc_cell": false,
   "toc_position": {
    "height": "713px",
    "left": "1098px",
    "top": "110.533px",
    "width": "177px"
   },
   "toc_section_display": true,
   "toc_window_display": true
  }
 },
 "nbformat": 4,
 "nbformat_minor": 5
}
