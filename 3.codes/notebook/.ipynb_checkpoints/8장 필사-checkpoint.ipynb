{
 "cells": [
  {
   "cell_type": "code",
   "execution_count": 3,
   "id": "242b7875-ef66-4436-9dfb-1f461cebaaa8",
   "metadata": {},
   "outputs": [],
   "source": [
    "import pandas as pd"
   ]
  },
  {
   "cell_type": "code",
   "execution_count": 4,
   "id": "5275c620-d5e8-4f90-85c4-f7a89eabb8b1",
   "metadata": {},
   "outputs": [],
   "source": [
    "df = pd.read_csv('../data/gapminder.tsv', sep='\\t')"
   ]
  },
  {
   "cell_type": "code",
   "execution_count": 6,
   "id": "1a6080f2-d8ec-4604-a636-b1d7cd2ed2ea",
   "metadata": {},
   "outputs": [
    {
     "name": "stdout",
     "output_type": "stream",
     "text": [
      "year\n",
      "1952    49.057620\n",
      "1957    51.507401\n",
      "1962    53.609249\n",
      "1967    55.678290\n",
      "1972    57.647386\n",
      "1977    59.570157\n",
      "1982    61.533197\n",
      "1987    63.212613\n",
      "1992    64.160338\n",
      "1997    65.014676\n",
      "2002    65.694923\n",
      "2007    67.007423\n",
      "Name: lifeExp, dtype: float64\n"
     ]
    }
   ],
   "source": [
    "# 연도별 평균 기대 수명(lifeExp)을 계산하고 출력합니다.\n",
    "avg_life_exp_by_year = df.groupby('year')['lifeExp'].mean() \n",
    "# year 기준으로 그룹화 후 lifeExp 평균 계산\n",
    "print(avg_life_exp_by_year)"
   ]
  },
  {
   "cell_type": "code",
   "execution_count": 10,
   "id": "3d56a4c9-e851-4d4d-bb8e-9f2070b6db34",
   "metadata": {},
   "outputs": [
    {
     "name": "stdout",
     "output_type": "stream",
     "text": [
      "[1952 1957 1962 1967 1972 1977 1982 1987 1992 1997 2002 2007]\n"
     ]
    }
   ],
   "source": [
    "years = df['year'].unique()\n",
    "print(years)"
   ]
  },
  {
   "cell_type": "code",
   "execution_count": 12,
   "id": "d50837c5-5e81-4c35-9e95-992c7cff7119",
   "metadata": {},
   "outputs": [
    {
     "name": "stdout",
     "output_type": "stream",
     "text": [
      "                 country continent  year  lifeExp       pop    gdpPercap\n",
      "0            Afghanistan      Asia  1952   28.801   8425333   779.445314\n",
      "12               Albania    Europe  1952   55.230   1282697  1601.056136\n",
      "24               Algeria    Africa  1952   43.077   9279525  2449.008185\n",
      "36                Angola    Africa  1952   30.015   4232095  3520.610273\n",
      "48             Argentina  Americas  1952   62.485  17876956  5911.315053\n",
      "...                  ...       ...   ...      ...       ...          ...\n",
      "1644             Vietnam      Asia  1952   40.412  26246839   605.066492\n",
      "1656  West Bank and Gaza      Asia  1952   43.160   1030585  1515.592329\n",
      "1668         Yemen, Rep.      Asia  1952   32.548   4963829   781.717576\n",
      "1680              Zambia    Africa  1952   42.038   2672000  1147.388831\n",
      "1692            Zimbabwe    Africa  1952   48.451   3080907   406.884115\n",
      "\n",
      "[142 rows x 6 columns]\n"
     ]
    }
   ],
   "source": [
    "# 1952년 데이터만 선택하여 y1952 변수에 저장하고 출력합니다.\n",
    "y1952 = df.loc[df['year'] == 1952, :] \n",
    "# year가 1952인 행을 모두 선택\n",
    "print(y1952)"
   ]
  },
  {
   "cell_type": "code",
   "execution_count": 13,
   "id": "b3b355c6-5963-4b6d-b245-36815c11cb5c",
   "metadata": {},
   "outputs": [
    {
     "name": "stdout",
     "output_type": "stream",
     "text": [
      "49.057619718309866\n"
     ]
    }
   ],
   "source": [
    "# 1952년 데이터의 평균 기대 수명(lifeExp)을 계산하고 출력합니다.\n",
    "y1952_mean = y1952['lifeExp'].mean() \n",
    "# y1952 데이터에서 lifeExp 컬럼의 평균 계산\n",
    "print(y1952_mean)"
   ]
  },
  {
   "cell_type": "code",
   "execution_count": null,
   "id": "7f49e8be-1d09-403a-a9a3-af53ee5e6a9b",
   "metadata": {},
   "outputs": [],
   "source": []
  }
 ],
 "metadata": {
  "kernelspec": {
   "display_name": "Python 3 (ipykernel)",
   "language": "python",
   "name": "python3"
  },
  "language_info": {
   "codemirror_mode": {
    "name": "ipython",
    "version": 3
   },
   "file_extension": ".py",
   "mimetype": "text/x-python",
   "name": "python",
   "nbconvert_exporter": "python",
   "pygments_lexer": "ipython3",
   "version": "3.12.9"
  }
 },
 "nbformat": 4,
 "nbformat_minor": 5
}
