{
 "cells": [
  {
   "cell_type": "markdown",
   "id": "7e076faf",
   "metadata": {},
   "source": [
    "## 07-1 데이터 묶어 분석하기"
   ]
  },
  {
   "cell_type": "markdown",
   "id": "843b4f24",
   "metadata": {},
   "source": [
    "## 07-2 데이터 연결하기"
   ]
  },
  {
   "cell_type": "code",
   "execution_count": null,
   "id": "10efb532",
   "metadata": {},
   "outputs": [],
   "source": [
    "# pandas 라이브러리를 pd라는 이름으로 불러옵니다. \n",
    "# pandas는 표 형식의 데이터를 다루는 데 매우 유용한 파이썬 라이브러리입니다.\n",
    "import pandas as pd\n",
    "\n",
    "# '../data/concat_1.csv' 파일을 읽어서 df1이라는 데이터프레임에 저장합니다.\n",
    "df1 = pd.read_csv('../data/concat_1.csv')\n",
    "\n",
    "# '../data/concat_2.csv' 파일을 읽어서 df2에 저장합니다.\n",
    "df2 = pd.read_csv('../data/concat_2.csv')\n",
    "\n",
    "# '../data/concat_3.csv' 파일을 읽어서 df3에 저장합니다.\n",
    "df3 = pd.read_csv('../data/concat_3.csv')\n",
    "\n",
    "# df1을 출력해 실제 데이터를 확인합니다.\n",
    "print(df1)\n"
   ]
  },
  {
   "cell_type": "code",
   "execution_count": null,
   "id": "267c066b",
   "metadata": {},
   "outputs": [],
   "source": [
    "# df2 데이터프레임을 출력합니다.\n",
    "print(df2)"
   ]
  },
  {
   "cell_type": "code",
   "execution_count": null,
   "id": "8ab46c99",
   "metadata": {},
   "outputs": [],
   "source": [
    "# df3 데이터프레임을 출력합니다.\n",
    "print(df3)"
   ]
  },
  {
   "cell_type": "markdown",
   "id": "0cc4c121",
   "metadata": {},
   "source": [
    "### 데이터프레임 살펴보기"
   ]
  },
  {
   "cell_type": "code",
   "execution_count": null,
   "id": "6893f715",
   "metadata": {},
   "outputs": [],
   "source": [
    "# df1의 인덱스를 출력합니다.\n",
    "# 인덱스는 각 행(row)을 구분하는 번호나 라벨입니다.\n",
    "print(df1.index)"
   ]
  },
  {
   "cell_type": "code",
   "execution_count": null,
   "id": "d23613af",
   "metadata": {},
   "outputs": [],
   "source": [
    "# df1의 컬럼(열 이름)을 출력합니다.\n",
    "print(df1.columns)"
   ]
  },
  {
   "cell_type": "code",
   "execution_count": null,
   "id": "9c5782c4",
   "metadata": {},
   "outputs": [],
   "source": [
    "# df1의 값들만 출력합니다. \n",
    "# 출력 결과는 2차원 배열 형태로 나타납니다.\n",
    "print(df1.values)"
   ]
  },
  {
   "cell_type": "markdown",
   "id": "815bcb9f",
   "metadata": {},
   "source": [
    "### 행 연결하기"
   ]
  },
  {
   "cell_type": "markdown",
   "id": "c627b196",
   "metadata": {},
   "source": [
    "#### [Do It! 실습] 행 방향 연결하기"
   ]
  },
  {
   "cell_type": "code",
   "execution_count": null,
   "id": "2abc3648",
   "metadata": {},
   "outputs": [],
   "source": [
    "# 세 개의 데이터프레임을 위에서 아래로(행 방향으로) 이어붙입니다.\n",
    "# ignore_index=True를 주면 인덱스를 0부터 새로 매깁니다.\n",
    "row_concat = pd.concat([df1, df2, df3], ignore_index=True)\n",
    "\n",
    "# 이어붙인 결과를 출력합니다.\n",
    "print(row_concat)"
   ]
  },
  {
   "cell_type": "code",
   "execution_count": null,
   "id": "2922ab72",
   "metadata": {},
   "outputs": [],
   "source": [
    "# row_concat에서 3번째 행(index=3)에 해당하는 전체 열 데이터를 출력합니다.\n",
    "# iloc는 행 번호를 기준으로 데이터를 선택합니다.\n",
    "print(row_concat.iloc[3, :])\n"
   ]
  },
  {
   "cell_type": "code",
   "execution_count": null,
   "id": "41b14525",
   "metadata": {},
   "outputs": [],
   "source": [
    "# 새로운 시리즈 데이터를 만듭니다 (열의 개수만큼 값 포함)\n",
    "new_row_series = pd.Series(['n1', 'n2', 'n3', 'n4'])\n",
    "# 생성된 시리즈 출력\n",
    "print(new_row_series)"
   ]
  },
  {
   "cell_type": "code",
   "execution_count": null,
   "id": "9d86a0d3",
   "metadata": {},
   "outputs": [],
   "source": [
    "# df1과 새로운 시리즈 데이터를 행 방향으로 합치려고 시도합니다\n",
    "# 열이 맞지 않기 때문에 경고 또는 예외가 발생할 수 있습니다\n",
    "print(pd.concat([df1, new_row_series]))"
   ]
  },
  {
   "cell_type": "code",
   "execution_count": null,
   "id": "3e293424",
   "metadata": {},
   "outputs": [],
   "source": [
    "# 하나의 행으로 구성된 새로운 데이터프레임 생성\n",
    "new_row_df = pd.DataFrame(\n",
    "    data=[[\"n1\", \"n2\", \"n3\", \"n4\"]],          # 데이터는 리스트 안의 리스트로 전달\n",
    "    columns=[\"A\", \"B\", \"C\", \"D\"],             # 각 열의 이름을 지정\n",
    ")\n",
    "# 생성된 데이터프레임 출력\n",
    "print(new_row_df)"
   ]
  },
  {
   "cell_type": "code",
   "execution_count": null,
   "id": "1ee7f383",
   "metadata": {},
   "outputs": [],
   "source": [
    "# 기존 df1에 새로운 행을 데이터프레임 형태로 추가 (행 방향 결합)\n",
    "print(pd.concat([df1, new_row_df]))"
   ]
  },
  {
   "cell_type": "markdown",
   "id": "7b4955d9",
   "metadata": {},
   "source": [
    "#### [Do It! 실습] 새로운 인덱스 설정하기"
   ]
  },
  {
   "cell_type": "code",
   "execution_count": null,
   "id": "390ad50d",
   "metadata": {},
   "outputs": [],
   "source": [
    "# 행 방향 결합을 하지만 기존 인덱스를 무시하고 새로운 연속 인덱스를 생성\n",
    "row_concat_i = pd.concat([df1, df2, df3], ignore_index=True)\n",
    "# 결과 출력\n",
    "print(row_concat_i)"
   ]
  },
  {
   "cell_type": "markdown",
   "id": "f1918aae",
   "metadata": {},
   "source": [
    "### 열 연결하기"
   ]
  },
  {
   "cell_type": "markdown",
   "id": "54a72755",
   "metadata": {},
   "source": [
    "#### [Do It! 실습] 열 방향 연결하기"
   ]
  },
  {
   "cell_type": "code",
   "execution_count": null,
   "id": "b79dd343",
   "metadata": {},
   "outputs": [],
   "source": [
    "# 열 방향으로(concatenate by columns) 데이터프레임 3개를 합칩니다\n",
    "col_concat = pd.concat([df1, df2, df3], axis=\"columns\")\n",
    "# 결과 출력\n",
    "print(col_concat)"
   ]
  },
  {
   "cell_type": "code",
   "execution_count": null,
   "id": "73dc2681",
   "metadata": {},
   "outputs": [],
   "source": [
    "# col_concat에서 'A' 열만 선택해서 출력\n",
    "print(col_concat['A'])"
   ]
  },
  {
   "cell_type": "code",
   "execution_count": null,
   "id": "4518c5d2",
   "metadata": {},
   "outputs": [],
   "source": [
    "# col_concat에 새로운 열을 리스트 형태로 추가 (길이는 행 개수와 맞춰야 함)\n",
    "col_concat['new_col_list'] = ['n1', 'n2', 'n3', 'n4']\n",
    "# 추가된 데이터프레임 출력\n",
    "print(col_concat)"
   ]
  },
  {
   "cell_type": "code",
   "execution_count": null,
   "id": "bd01b7d5",
   "metadata": {},
   "outputs": [],
   "source": [
    "# 이번엔 pd.Series 객체를 이용해 새로운 열을 추가\n",
    "col_concat['new_col_series'] = pd.Series(['n1', 'n2', 'n3', 'n4'])\n",
    "# 시리즈 열 추가 후 데이터프레임 출력\n",
    "print(col_concat)"
   ]
  },
  {
   "cell_type": "code",
   "execution_count": null,
   "id": "3d8280ee",
   "metadata": {},
   "outputs": [],
   "source": [
    "# 열 방향으로 결합하며 기존 컬럼명을 무시하고 인덱스를 자동 생성\n",
    "print(pd.concat([df1, df2, df3], axis=\"columns\", ignore_index=True))"
   ]
  },
  {
   "cell_type": "markdown",
   "id": "15d09cf1",
   "metadata": {},
   "source": [
    "### 인덱스나 열 이름이 다른 데이터 연결하기"
   ]
  },
  {
   "cell_type": "markdown",
   "id": "618eb675",
   "metadata": {},
   "source": [
    "#### [Do It! 실습] 열 이름이 다른 데이터 행 방향 연결하기"
   ]
  },
  {
   "cell_type": "code",
   "execution_count": null,
   "id": "9161a770",
   "metadata": {},
   "outputs": [],
   "source": [
    "# df1, df2, df3의 컬럼명을 각각 새롭게 지정\n",
    "df1.columns = ['A', 'B', 'C', 'D']\n",
    "df2.columns = ['E', 'F', 'G', 'H']\n",
    "df3.columns = ['A', 'C', 'F', 'H']\n",
    "# 변경된 df1 출력\n",
    "print(df1)"
   ]
  },
  {
   "cell_type": "code",
   "execution_count": null,
   "id": "4dddcc0a",
   "metadata": {},
   "outputs": [],
   "source": [
    "print(df2)\n",
    "print(df3)"
   ]
  },
  {
   "cell_type": "code",
   "execution_count": null,
   "id": "34ad8d78",
   "metadata": {},
   "outputs": [],
   "source": [
    "# 세 개의 데이터프레임을 다시 행 방향으로 연결\n",
    "row_concat = pd.concat([df1, df2, df3])\n",
    "# 결과 출력\n",
    "print(row_concat)"
   ]
  },
  {
   "cell_type": "code",
   "execution_count": null,
   "id": "265cc328",
   "metadata": {},
   "outputs": [],
   "source": [
    "# inner join 방식으로 연결하면, 공통된 컬럼만 기준으로 결합\n",
    "print(pd.concat([df1, df2, df3], join='inner'))"
   ]
  },
  {
   "cell_type": "code",
   "execution_count": null,
   "id": "d1174514",
   "metadata": {},
   "outputs": [],
   "source": [
    "# df1과 df3을 공통된 컬럼 기준(inner join)으로, 인덱스는 그대로 두고 결합\n",
    "print(pd.concat([df1, df3], ignore_index=False, join='inner'))"
   ]
  },
  {
   "cell_type": "markdown",
   "id": "4a7e1599",
   "metadata": {},
   "source": [
    "#### [Do It! 실습] 인덱스가 다른 데이터 열 방향 연결하기"
   ]
  },
  {
   "cell_type": "code",
   "execution_count": null,
   "id": "e0a391ac",
   "metadata": {},
   "outputs": [],
   "source": [
    "# df1, df2, df3의 인덱스를 각각 수동으로 재지정\n",
    "df1.index = [0, 1, 2, 3]\n",
    "df2.index = [4, 5, 6, 7]\n",
    "df3.index = [0, 2, 5, 7]\n",
    "# df1 출력\n",
    "print(df1)"
   ]
  },
  {
   "cell_type": "code",
   "execution_count": null,
   "id": "6b011be1",
   "metadata": {},
   "outputs": [],
   "source": [
    "print(df2)\n",
    "print(df3)"
   ]
  },
  {
   "cell_type": "code",
   "execution_count": null,
   "id": "81e047f2",
   "metadata": {},
   "outputs": [],
   "source": [
    "# 세 개의 데이터프레임을 열 방향으로 합치기 (인덱스 맞춰 붙이기)\n",
    "col_concat = pd.concat([df1, df2, df3], axis=\"columns\")\n",
    "# 결과 출력\n",
    "print(col_concat)"
   ]
  },
  {
   "cell_type": "code",
   "execution_count": null,
   "id": "d97cd168",
   "metadata": {},
   "outputs": [],
   "source": [
    "# 공통된 인덱스를 기준으로 열 방향(inner join)으로 붙이기\n",
    "print(pd.concat([df1, df3], axis=\"columns\", join='inner'))"
   ]
  },
  {
   "cell_type": "markdown",
   "id": "7f674297",
   "metadata": {},
   "source": [
    "## 07-3 분할된 데이터 연결하기"
   ]
  },
  {
   "cell_type": "markdown",
   "id": "1c008867",
   "metadata": {},
   "source": [
    "#### [Do It! 실습] 여러 개의 파일로 분할된 데이터 연결하기"
   ]
  },
  {
   "cell_type": "code",
   "execution_count": null,
   "id": "4aa43b92",
   "metadata": {},
   "outputs": [],
   "source": [
    "# pathlib을 이용해 지정된 폴더 내 특정 이름 형식에 맞는 파일 리스트를 가져옴\n",
    "from pathlib import Path\n",
    "\n",
    "# ../data/billboard-by_week/ 폴더에 있는 'billboard-*.csv' 파일을 찾음\n",
    "billboard_data_files = (\n",
    "    Path(\".\")\n",
    "    .glob(\"../data/billboard-by_week/billboard-*.csv\")\n",
    ")\n",
    "\n",
    "# 찾은 파일들을 정렬한 리스트로 변환 후 출력\n",
    "billboard_data_files = sorted(list(billboard_data_files))\n",
    "print(billboard_data_files)"
   ]
  },
  {
   "cell_type": "code",
   "execution_count": null,
   "id": "f4b3c1eb",
   "metadata": {},
   "outputs": [],
   "source": [
    "# 반복적으로 사용할 수 있게 리스트로 한 번 더 변환\n",
    "billboard_data_files = list(billboard_data_files)"
   ]
  },
  {
   "cell_type": "code",
   "execution_count": null,
   "id": "7573b16f",
   "metadata": {},
   "outputs": [],
   "source": [
    "# 상위 3개의 빌보드 csv 파일을 데이터프레임으로 각각 읽어옴\n",
    "billboard01 = pd.read_csv(billboard_data_files[0])\n",
    "billboard02 = pd.read_csv(billboard_data_files[1])\n",
    "billboard03 = pd.read_csv(billboard_data_files[2])\n",
    "\n",
    "# 첫 번째 파일의 내용 확인\n",
    "print(billboard01)"
   ]
  },
  {
   "cell_type": "code",
   "execution_count": null,
   "id": "c260d307",
   "metadata": {},
   "outputs": [],
   "source": [
    "# 각 데이터프레임의 shape 확인\n",
    "print(billboard01.shape)\n",
    "print(billboard02.shape)\n",
    "print(billboard03.shape)"
   ]
  },
  {
   "cell_type": "code",
   "execution_count": null,
   "id": "39687b37",
   "metadata": {},
   "outputs": [],
   "source": [
    "# 세 개의 빌보드 데이터프레임을 세로로 연결 (row-wise)\n",
    "billboard = pd.concat([billboard01, billboard02, billboard03])\n",
    "\n",
    "# 연결된 전체 데이터프레임의 shape 확인\n",
    "print(billboard.shape)"
   ]
  },
  {
   "cell_type": "code",
   "execution_count": null,
   "id": "34f89124",
   "metadata": {},
   "outputs": [],
   "source": [
    "# assert 문을 통해 연결된 결과의 행 수가 원본 세 개의 행 수 합과 같은지 검증\n",
    "assert (\n",
    "    billboard01.shape[0]\n",
    "    + billboard02.shape[0]\n",
    "    + billboard03.shape[0]\n",
    "    == billboard.shape[0]\n",
    ")"
   ]
  },
  {
   "cell_type": "markdown",
   "id": "81c66e8f",
   "metadata": {},
   "source": [
    "#### [Do It! 실습] 루프 구문으로 여러 개 파일 불러오기"
   ]
  },
  {
   "cell_type": "code",
   "execution_count": null,
   "id": "498de34e",
   "metadata": {},
   "outputs": [],
   "source": [
    "from pathlib import Path\n",
    "billboard_data_files = (\n",
    "    Path(\".\")\n",
    "    .glob(\"../data/billboard-by_week/billboard-*.csv\")\n",
    ")\n",
    "\n",
    "# 빈 리스트를 생성합니다.\n",
    "list_billboard_df = []\n",
    "\n",
    "# CSV 파일명 리스트를 순회합니다.\n",
    "for csv_filename in billboard_data_files:\n",
    "    # 필요하다면 아래 코드를 주석 해제하여 각 CSV 파일명을 출력하세요.\n",
    "    # print(csv_filename)\n",
    "    \n",
    "    # CSV 파일을 데이터프레임으로 불러옵니다.\n",
    "    df = pd.read_csv(csv_filename)\n",
    "    \n",
    "    # 데이터프레임을 리스트에 저장합니다.\n",
    "    list_billboard_df.append(df)\n",
    "\n",
    "# 데이터프레임의 개수를 출력합니다.\n",
    "print(len(list_billboard_df))"
   ]
  },
  {
   "cell_type": "code",
   "execution_count": null,
   "id": "88286137",
   "metadata": {},
   "outputs": [],
   "source": [
    "# 리스트의 첫 번째 요소가 어떤 자료형인지 확인 (DataFrame인지 확인용)\n",
    "print(type(list_billboard_df[0]))"
   ]
  },
  {
   "cell_type": "code",
   "execution_count": null,
   "id": "2d4680f1",
   "metadata": {},
   "outputs": [],
   "source": [
    "# 리스트의 첫 번째 데이터프레임 출력 (내용 확인)\n",
    "print(list_billboard_df[0])"
   ]
  },
  {
   "cell_type": "code",
   "execution_count": null,
   "id": "2990eb50",
   "metadata": {},
   "outputs": [],
   "source": [
    "# 리스트에 담긴 데이터프레임들을 한 번에 concat하여 하나의 큰 데이터프레임으로 연결\n",
    "billboard_loop_concat = pd.concat(list_billboard_df)\n",
    "# 결과 shape 출력\n",
    "print(billboard_loop_concat.shape)"
   ]
  },
  {
   "cell_type": "markdown",
   "id": "9a0d7987",
   "metadata": {},
   "source": [
    "#### [Do It! 실습] 리스트 컴프리헨션으로 여러 개 파일 불러오기"
   ]
  },
  {
   "cell_type": "code",
   "execution_count": null,
   "id": "f0fc23f6",
   "metadata": {},
   "outputs": [],
   "source": [
    "# 다시 데이터 파일 리스트 재정의\n",
    "billboard_data_files = (\n",
    "    Path(\".\")\n",
    "    .glob(\"../data/billboard-by_week/billboard-*.csv\")\n",
    ")\n",
    "\n",
    "# 데이터프레임 리스트 초기화\n",
    "list_billboard_df = []\n",
    "\n",
    "# 파일마다 읽어서 리스트에 저장\n",
    "for csv_filename in billboard_data_files:\n",
    "    df = pd.read_csv(csv_filename)\n",
    "    list_billboard_df.append(df)\n",
    "\n",
    "# 동일한 방식으로 리스트 컴프리헨션으로도 구현 가능\n",
    "billboard_data_files = (\n",
    "    Path(\".\")\n",
    "    .glob(\"../data/billboard-by_week/billboard-*.csv\")\n",
    ")\n",
    "\n",
    "# 리스트 컴프리헨션을 이용해 한 줄로 CSV → DF 변환\n",
    "billboard_dfs = [pd.read_csv(data) for data in billboard_data_files]"
   ]
  },
  {
   "cell_type": "code",
   "execution_count": null,
   "id": "f93c2f99",
   "metadata": {},
   "outputs": [],
   "source": [
    "# billboard_dfs의 타입 확인 (list인지 확인)\n",
    "print(type(billboard_dfs))"
   ]
  },
  {
   "cell_type": "code",
   "execution_count": null,
   "id": "f61dd10c",
   "metadata": {},
   "outputs": [],
   "source": [
    "# 리스트 안에 있는 데이터프레임 개수 확인\n",
    "print(len(billboard_dfs))"
   ]
  },
  {
   "cell_type": "code",
   "execution_count": null,
   "id": "63f2c817",
   "metadata": {},
   "outputs": [],
   "source": [
    "# 리스트 컴프리헨션으로 만든 데이터프레임들을 한 번에 concat하여 하나로 연결\n",
    "billboard_concat_comp = pd.concat(billboard_dfs)\n",
    "# 결과 출력\n",
    "print(billboard_concat_comp)"
   ]
  },
  {
   "cell_type": "markdown",
   "id": "a4396da7",
   "metadata": {},
   "source": [
    "## 07-4 여러 데이터셋 병합하기"
   ]
  },
  {
   "cell_type": "code",
   "execution_count": null,
   "id": "6d886c29",
   "metadata": {},
   "outputs": [],
   "source": [
    "# 여러 CSV 파일을 각각 불러옴 (사람, 장소, 설문, 방문 기록 데이터)\n",
    "person = pd.read_csv('../data/survey_person.csv')\n",
    "site = pd.read_csv('../data/survey_site.csv')\n",
    "survey = pd.read_csv('../data/survey_survey.csv')\n",
    "visited = pd.read_csv('../data/survey_visited.csv')\n",
    "\n",
    "# person 테이블 출력\n",
    "print(person)"
   ]
  },
  {
   "cell_type": "code",
   "execution_count": null,
   "id": "d5c76176",
   "metadata": {},
   "outputs": [],
   "source": [
    "# site 테이블 출력\n",
    "print(site)"
   ]
  },
  {
   "cell_type": "code",
   "execution_count": null,
   "id": "b533743b",
   "metadata": {},
   "outputs": [],
   "source": [
    "# visited 테이블 출력\n",
    "print(visited)"
   ]
  },
  {
   "cell_type": "code",
   "execution_count": null,
   "id": "a4890542",
   "metadata": {},
   "outputs": [],
   "source": [
    "# survey 테이블 출력\n",
    "print(survey)"
   ]
  },
  {
   "cell_type": "markdown",
   "id": "8fdcf10c",
   "metadata": {},
   "source": [
    "#### [Do It! 실습] 일대일 병합하기"
   ]
  },
  {
   "cell_type": "code",
   "execution_count": null,
   "id": "1d5b378f",
   "metadata": {},
   "outputs": [],
   "source": [
    "# visited 데이터 중에서 0, 2, 6번 행만 선택하여 하위셋 생성\n",
    "visited_subset = visited.loc[[0, 2, 6], :]\n",
    "# 하위셋 출력\n",
    "print(visited_subset)"
   ]
  },
  {
   "cell_type": "code",
   "execution_count": null,
   "id": "2dd541ee",
   "metadata": {},
   "outputs": [],
   "source": [
    "# visited_subset에서 'site' 컬럼에 어떤 값이 몇 번 나오는지 세어봄\n",
    "print(visited_subset[\"site\"].value_counts())"
   ]
  },
  {
   "cell_type": "code",
   "execution_count": null,
   "id": "e65d3a01",
   "metadata": {},
   "outputs": [],
   "source": [
    "# site와 visited_subset을 name/site를 기준으로 병합 (1:1 매핑)\n",
    "o2o_merge = site.merge(visited_subset, left_on=\"name\", right_on=\"site\")\n",
    "# 병합 결과 출력\n",
    "print(o2o_merge)"
   ]
  },
  {
   "cell_type": "markdown",
   "id": "548eddcf",
   "metadata": {},
   "source": [
    "#### [Do It! 실습] 다대일 병합하기"
   ]
  },
  {
   "cell_type": "code",
   "execution_count": null,
   "id": "5d937ac9",
   "metadata": {},
   "outputs": [],
   "source": [
    "# 전체 visited에서 'site'가 몇 번씩 나오는지 확인 (중복 여부 확인용)\n",
    "print(visited[\"site\"].value_counts())"
   ]
  },
  {
   "cell_type": "code",
   "execution_count": null,
   "id": "7278eaee",
   "metadata": {},
   "outputs": [],
   "source": [
    "# site와 visited 전체를 병합 (1:N 매핑), 동일 기준으로 병합\n",
    "m2o_merge = site.merge(visited, left_on='name', right_on='site')\n",
    "# 병합 결과 출력\n",
    "print(m2o_merge)"
   ]
  },
  {
   "cell_type": "markdown",
   "id": "c406d404",
   "metadata": {},
   "source": [
    "#### [Do It! 실습] 다대다 병합하기"
   ]
  },
  {
   "cell_type": "code",
   "execution_count": null,
   "id": "0c8eb5c5",
   "metadata": {},
   "outputs": [],
   "source": [
    "# person과 survey를 병합\n",
    "# person.ident와 survey.person을 기준으로 병합 (1:N 관계)\n",
    "ps = person.merge(survey, left_on='ident', right_on='person')\n",
    "\n",
    "# visited와 survey를 병합\n",
    "# visited.ident와 survey.taken을 기준으로 병합 (1:N 관계)\n",
    "vs = visited.merge(survey, left_on='ident', right_on='taken')\n",
    "\n",
    "# 병합된 ps 출력\n",
    "print(ps)"
   ]
  },
  {
   "cell_type": "code",
   "execution_count": null,
   "id": "19c6dc70",
   "metadata": {},
   "outputs": [],
   "source": [
    "# 병합된 vs 출력\n",
    "print(vs)"
   ]
  },
  {
   "cell_type": "code",
   "execution_count": null,
   "id": "1a9d3416",
   "metadata": {},
   "outputs": [],
   "source": [
    "# ps 데이터프레임에서 quant(측정값)의 개수 세기\n",
    "print(ps[\"quant\"].value_counts())"
   ]
  },
  {
   "cell_type": "code",
   "execution_count": null,
   "id": "6ef5ed0d",
   "metadata": {},
   "outputs": [],
   "source": [
    "# vs 데이터프레임에서도 quant 값별로 개수 세기\n",
    "print(vs[\"quant\"].value_counts())"
   ]
  },
  {
   "cell_type": "code",
   "execution_count": null,
   "id": "c73fdc43",
   "metadata": {},
   "outputs": [],
   "source": [
    "# ps와 vs를 quant라는 동일한 값을 기준으로 병합\n",
    "# 동일한 측정값을 기준으로 데이터를 합치는 M:N 병합\n",
    "ps_vs = ps.merge(\n",
    "    vs,\n",
    "    left_on=[\"quant\"],\n",
    "    right_on=[\"quant\"],\n",
    ")\n",
    "# 결과는 자동 출력 (Jupyter에서는 마지막 줄의 객체가 출력됨)\n",
    "ps_vs"
   ]
  },
  {
   "cell_type": "code",
   "execution_count": null,
   "id": "8cf1d71a",
   "metadata": {},
   "outputs": [],
   "source": [
    "# 병합 결과의 첫 번째 행을 출력 (한 줄 확인용)\n",
    "print(ps_vs.loc[0, :])"
   ]
  },
  {
   "cell_type": "markdown",
   "id": "9240fbd9",
   "metadata": {},
   "source": [
    "#### [Do It! 실습] assert문으로 병합 결과 확인하기"
   ]
  },
  {
   "cell_type": "code",
   "execution_count": null,
   "id": "6dbaf8fa",
   "metadata": {},
   "outputs": [],
   "source": [
    "# ps의 shape 확인 (행 개수와 열 개수)\n",
    "print(ps.shape)"
   ]
  },
  {
   "cell_type": "code",
   "execution_count": null,
   "id": "ed10bb0c",
   "metadata": {},
   "outputs": [],
   "source": [
    "# vs의 shape 확인\n",
    "print(vs.shape)"
   ]
  },
  {
   "cell_type": "code",
   "execution_count": null,
   "id": "2038afbd",
   "metadata": {},
   "outputs": [],
   "source": [
    "# 병합된 ps_vs의 shape 확인\n",
    "print(ps_vs.shape)"
   ]
  },
  {
   "cell_type": "code",
   "execution_count": null,
   "id": "89474e74",
   "metadata": {},
   "outputs": [],
   "source": [
    "# vs의 행 개수가 21개인지 검증 (의도한 데이터셋인지 확인용)\n",
    "assert vs.shape[0] == 21"
   ]
  },
  {
   "cell_type": "code",
   "execution_count": null,
   "id": "48466d23",
   "metadata": {},
   "outputs": [],
   "source": [
    "# 아래 주석 처리된 assert는 오류를 발생시킴\n",
    "# ps_vs의 행 수는 vs보다 많을 수도 있음 (M:N 병합이기 때문!)\n",
    "# assert ps_vs.shape[0] <= vs.shape[0]"
   ]
  },
  {
   "cell_type": "markdown",
   "id": "eae386d4",
   "metadata": {},
   "source": [
    "## 07-5 데이터 정규화하기"
   ]
  },
  {
   "cell_type": "markdown",
   "id": "1d130f98",
   "metadata": {},
   "source": [
    "#### [Do It! 실습] 표 분할하여 데이터 정규화하기"
   ]
  },
  {
   "cell_type": "code",
   "execution_count": null,
   "id": "fd678ffa",
   "metadata": {},
   "outputs": [],
   "source": [
    "# pandas를 불러오고 billboard 데이터셋을 읽음\n",
    "import pandas as pd\n",
    "\n",
    "billboard = pd.read_csv('../data/billboard.csv')\n",
    "\n",
    "# melt 함수를 사용해 넓은 형식(wide format)을 긴 형식(long format)으로 변환\n",
    "billboard_long = billboard.melt(\n",
    "    id_vars=[\"year\", \"artist\", \"track\", \"time\", \"date.entered\"],  # 식별자 열\n",
    "    var_name=\"week\",      # 열 이름이 'week'으로 들어감\n",
    "    value_name=\"rating\",  # 값은 'rating'이라는 이름으로 들어감\n",
    ")\n",
    "\n",
    "# 변환된 결과 출력\n",
    "print(billboard_long)"
   ]
  },
  {
   "cell_type": "code",
   "execution_count": null,
   "id": "b9ae1f54",
   "metadata": {},
   "outputs": [],
   "source": [
    "# 특정 트랙('Loser')에 대한 데이터만 출력\n",
    "print(billboard_long.loc[billboard_long.track == 'Loser'])"
   ]
  },
  {
   "cell_type": "code",
   "execution_count": null,
   "id": "bd9bca63",
   "metadata": {},
   "outputs": [],
   "source": [
    "# 곡에 해당하는 열만 추출 (중복 있음)\n",
    "billboard_songs = billboard_long[\n",
    "    [\"year\", \"artist\", \"track\", \"time\", \"date.entered\"]\n",
    "]\n",
    "# 현재 곡 데이터프레임의 크기 출력\n",
    "print(billboard_songs.shape)"
   ]
  },
  {
   "cell_type": "code",
   "execution_count": null,
   "id": "228a05bd",
   "metadata": {},
   "outputs": [],
   "source": [
    "# 중복된 곡 정보를 제거\n",
    "billboard_songs = billboard_songs.drop_duplicates()\n",
    "# 중복 제거 후 크기 확인\n",
    "print(billboard_songs.shape)"
   ]
  },
  {
   "cell_type": "code",
   "execution_count": null,
   "id": "7c909b30",
   "metadata": {},
   "outputs": [],
   "source": [
    "# 각 곡에 고유 ID 부여 (index + 1)\n",
    "billboard_songs['id'] = billboard_songs.index + 1\n",
    "# 부여된 ID 확인\n",
    "print(billboard_songs)"
   ]
  },
  {
   "cell_type": "code",
   "execution_count": null,
   "id": "e2323837",
   "metadata": {},
   "outputs": [],
   "source": [
    "# 긴 포맷의 데이터와 고유 곡 정보(ID 포함)를 병합\n",
    "# 곡 정보를 기준으로 ratings 데이터에 ID 연결\n",
    "billboard_ratings = billboard_long.merge(\n",
    "    billboard_songs, on=[\"year\", \"artist\", \"track\", \"time\", \"date.entered\"]\n",
    ")\n",
    "# 병합된 결과의 크기 확인\n",
    "print(billboard_ratings.shape)"
   ]
  },
  {
   "cell_type": "code",
   "execution_count": null,
   "id": "aad3e41c",
   "metadata": {},
   "outputs": [],
   "source": [
    "# 병합된 전체 데이터프레임 확인\n",
    "print(billboard_ratings)"
   ]
  },
  {
   "cell_type": "code",
   "execution_count": null,
   "id": "a43e6659",
   "metadata": {},
   "outputs": [],
   "source": [
    "# ID, week, rating 열만 추출해서 깔끔한 평점 데이터프레임 만들기\n",
    "billboard_ratings = billboard_ratings[\n",
    "    [\"id\", \"week\", \"rating\"]\n",
    "]\n",
    "# 추출 결과 확인\n",
    "print(billboard_ratings)"
   ]
  }
 ],
 "metadata": {
  "kernelspec": {
   "display_name": "Python 3 (ipykernel)",
   "language": "python",
   "name": "python3"
  },
  "language_info": {
   "codemirror_mode": {
    "name": "ipython",
    "version": 3
   },
   "file_extension": ".py",
   "mimetype": "text/x-python",
   "name": "python",
   "nbconvert_exporter": "python",
   "pygments_lexer": "ipython3",
   "version": "3.11.5"
  },
  "toc": {
   "base_numbering": 1,
   "nav_menu": {},
   "number_sections": false,
   "sideBar": false,
   "skip_h1_title": false,
   "title_cell": "Table of Contents",
   "title_sidebar": "Contents",
   "toc_cell": false,
   "toc_position": {
    "height": "1098px",
    "left": "992.867px",
    "top": "110.233px",
    "width": "255.467px"
   },
   "toc_section_display": true,
   "toc_window_display": true
  }
 },
 "nbformat": 4,
 "nbformat_minor": 5
}
