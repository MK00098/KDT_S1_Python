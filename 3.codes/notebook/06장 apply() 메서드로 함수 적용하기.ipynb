{
 "cells": [
  {
   "cell_type": "markdown",
   "id": "e49d2d9d",
   "metadata": {},
   "source": [
    "## 06-1 간단한 함수 만들기"
   ]
  },
  {
   "cell_type": "markdown",
   "id": "2d5062ed",
   "metadata": {},
   "source": [
    "#### [Do It! 실습] 사용자 함수 만들기"
   ]
  },
  {
   "cell_type": "code",
   "execution_count": 27,
   "id": "c46b4250",
   "metadata": {},
   "outputs": [],
   "source": [
    "# my_sq 라는 이름의 함수를 정의해요. 이 함수는 숫자 x를 입력받아서 그 제곱을 반환합니다.\n",
    "def my_sq(x):\n",
    "    return x ** 2  # x의 제곱을 계산해서 결과를 반환"
   ]
  },
  {
   "cell_type": "code",
   "execution_count": 28,
   "id": "60c4e379",
   "metadata": {},
   "outputs": [],
   "source": [
    "# avg_2라는 이름의 함수를 정의해요. 두 숫자 x, y를 받아서 평균을 반환합니다.\n",
    "def avg_2(x, y):\n",
    "    return (x + y) / 2  # x와 y를 더한 후 2로 나누어 평균 계산"
   ]
  },
  {
   "cell_type": "code",
   "execution_count": 29,
   "id": "d1b6a3dc",
   "metadata": {},
   "outputs": [],
   "source": [
    "# avg_2 함수에 문서 문자열(docstring)을 추가했어요.\n",
    "# 이건 다른 사람이 이 함수를 사용할 때 무슨 기능인지 쉽게 알 수 있게 도와줘요.\n",
    "def avg_2(x, y):\n",
    "    \"\"\"두 숫자의 평균을 구하는 함수\n",
    "    \"\"\"\n",
    "    return (x + y) / 2"
   ]
  },
  {
   "cell_type": "code",
   "execution_count": 30,
   "id": "a59fde30",
   "metadata": {},
   "outputs": [
    {
     "name": "stdout",
     "output_type": "stream",
     "text": [
      "16\n"
     ]
    }
   ],
   "source": [
    "# my_sq 함수를 사용해서 4의 제곱을 계산하고, 결과를 my_calc_1에 저장해요.\n",
    "my_calc_1 = my_sq(4)\n",
    "print(my_calc_1)  # 4의 제곱인 16이 출력됩니다."
   ]
  },
  {
   "cell_type": "code",
   "execution_count": 31,
   "id": "9f16bbd0",
   "metadata": {},
   "outputs": [
    {
     "name": "stdout",
     "output_type": "stream",
     "text": [
      "15.0\n"
     ]
    }
   ],
   "source": [
    "# avg_2 함수를 사용해서 10과 20의 평균을 계산하고, 결과를 my_calc_2에 저장해요.\n",
    "my_calc_2 = avg_2(10, 20)\n",
    "print(my_calc_2)  # 10과 20의 평균인 15.0이 출력됩니다."
   ]
  },
  {
   "cell_type": "markdown",
   "id": "c401b58e",
   "metadata": {},
   "source": [
    "## 06-2 apply() 메서드 사용하기"
   ]
  },
  {
   "cell_type": "markdown",
   "id": "d7bab8ee",
   "metadata": {},
   "source": [
    "#### [Do It! 실습] 데이터프레임에 함수 적용하기"
   ]
  },
  {
   "cell_type": "code",
   "execution_count": 32,
   "id": "01a0da75",
   "metadata": {},
   "outputs": [
    {
     "name": "stdout",
     "output_type": "stream",
     "text": [
      "0    100\n",
      "1    400\n",
      "2    900\n",
      "Name: a, dtype: int64\n"
     ]
    }
   ],
   "source": [
    "# pandas 라이브러리를 불러옵니다. pd라는 이름으로 줄여서 사용해요.\n",
    "import pandas as pd\n",
    "\n",
    "# 딕셔너리 형태로 데이터프레임을 만듭니다.\n",
    "# 'a'라는 열에 [10, 20, 30]이라는 숫자들이 들어가 있어요.\n",
    "df = pd.DataFrame({\"a\": [10, 20, 30]})\n",
    "\n",
    "# df['a']는 'a' 열을 의미해요. 여기에 ** 2 연산을 하면 각 요소의 제곱을 계산할 수 있어요.\n",
    "print(df['a'] ** 2)  # [100, 400, 900]이 출력됩니다.\n"
   ]
  },
  {
   "cell_type": "code",
   "execution_count": 33,
   "id": "2f13a1d6",
   "metadata": {},
   "outputs": [
    {
     "name": "stdout",
     "output_type": "stream",
     "text": [
      "0    100\n",
      "1    400\n",
      "2    900\n",
      "Name: a, dtype: int64\n"
     ]
    }
   ],
   "source": [
    "# df['a']는 'a' 열을 의미해요. 여기에 ** 2 연산을 하면 각 요소의 제곱을 계산할 수 있어요.\n",
    "print(df['a'] ** 2)  # [100, 400, 900]이 출력됩니다."
   ]
  },
  {
   "cell_type": "markdown",
   "id": "c2df540f",
   "metadata": {},
   "source": [
    "### 시리즈에 함수 적용하기"
   ]
  },
  {
   "cell_type": "markdown",
   "id": "80bc3d1c",
   "metadata": {},
   "source": [
    "#### [Do It! 실습] 시리즈에 함수 적용하기"
   ]
  },
  {
   "cell_type": "code",
   "execution_count": 34,
   "id": "b5d4c443",
   "metadata": {},
   "outputs": [
    {
     "name": "stdout",
     "output_type": "stream",
     "text": [
      "<class 'pandas.core.series.Series'>\n"
     ]
    }
   ],
   "source": [
    "# df['a']는 Series 타입입니다. 어떤 데이터 타입인지 확인해볼게요.\n",
    "print(type(df['a']))  # 출력: <class 'pandas.core.series.Series'>"
   ]
  },
  {
   "cell_type": "code",
   "execution_count": 35,
   "id": "3629195d",
   "metadata": {},
   "outputs": [
    {
     "name": "stdout",
     "output_type": "stream",
     "text": [
      "<class 'pandas.core.series.Series'>\n"
     ]
    }
   ],
   "source": [
    "# df.iloc[0]은 데이터프레임의 첫 번째 행 전체를 가져오는 것이 아니라\n",
    "# 여기선 df['a'] 열의 첫 번째 값을 의미합니다. 즉, 숫자 하나!\n",
    "print(type(df.iloc[0]))  # 출력: <class 'numpy.int64'> 또는 <class 'int'>"
   ]
  },
  {
   "cell_type": "code",
   "execution_count": 36,
   "id": "bd3a28e1",
   "metadata": {},
   "outputs": [
    {
     "name": "stdout",
     "output_type": "stream",
     "text": [
      "0    100\n",
      "1    400\n",
      "2    900\n",
      "Name: a, dtype: int64\n"
     ]
    }
   ],
   "source": [
    "# df['a']에 apply를 사용하면, 각 요소에 함수를 적용할 수 있어요.\n",
    "# 여기선 앞서 정의한 my_sq 함수(제곱 계산)를 적용합니다.\n",
    "sq = df['a'].apply(my_sq)  # 각 요소에 my_sq 함수 적용\n",
    "print(sq)  # 결과: [100, 400, 900]"
   ]
  },
  {
   "cell_type": "markdown",
   "id": "742eb394",
   "metadata": {},
   "source": [
    "#### [Do It! 실습] 사용자 함수 만들어 데이터프레임에 적용하기"
   ]
  },
  {
   "cell_type": "code",
   "execution_count": 37,
   "id": "7d03bed0",
   "metadata": {},
   "outputs": [],
   "source": [
    "# my_exp 함수는 숫자 x와 지수 e를 입력받아서, x ** e (x의 e제곱)를 반환합니다.\n",
    "def my_exp(x, e):\n",
    "    return x ** e  # 거듭제곱 계산\n"
   ]
  },
  {
   "cell_type": "code",
   "execution_count": 38,
   "id": "66da0e64",
   "metadata": {},
   "outputs": [
    {
     "name": "stdout",
     "output_type": "stream",
     "text": [
      "8\n"
     ]
    }
   ],
   "source": [
    "# 2의 3제곱을 계산한 결과를 cubed 변수에 저장하고 출력해요.\n",
    "cubed = my_exp(2, 3)\n",
    "\n",
    "print(cubed)  # 결과: 8"
   ]
  },
  {
   "cell_type": "code",
   "execution_count": 39,
   "id": "98b03ff3",
   "metadata": {},
   "outputs": [],
   "source": [
    "# my_exp(2)  # 오류\n",
    "# my_exp 함수는 x와 e 두 개의 인자를 받아야 해요.\n",
    "# 인자 하나만 주면 오류가 발생합니다.\n",
    "\n",
    "# my_exp(2)  # 이 코드는 오류가 발생해서 주석 처리해둔 거예요.\n"
   ]
  },
  {
   "cell_type": "code",
   "execution_count": 40,
   "id": "87040008",
   "metadata": {},
   "outputs": [
    {
     "name": "stdout",
     "output_type": "stream",
     "text": [
      "0    100\n",
      "1    400\n",
      "2    900\n",
      "Name: a, dtype: int64\n"
     ]
    }
   ],
   "source": [
    "# df['a']에 apply()를 사용해서 my_exp 함수를 적용합니다.\n",
    "# 여기서 e=2를 추가로 전달해서, 각 요소를 제곱해요.\n",
    "ex = df['a'].apply(my_exp, e=2)\n",
    "print(ex)  # 결과: [100, 400, 900] (10^2, 20^2, 30^2)"
   ]
  },
  {
   "cell_type": "code",
   "execution_count": 41,
   "id": "187b56b0",
   "metadata": {},
   "outputs": [
    {
     "name": "stdout",
     "output_type": "stream",
     "text": [
      "0     1000\n",
      "1     8000\n",
      "2    27000\n",
      "Name: a, dtype: int64\n"
     ]
    }
   ],
   "source": [
    "# 이번에는 같은 방식으로 e=3을 전달해 3제곱을 계산합니다.\n",
    "ex = df['a'].apply(my_exp, e=3)\n",
    "print(ex)  # 결과: [1000, 8000, 27000] (10^3, 20^3, 30^3)"
   ]
  },
  {
   "cell_type": "markdown",
   "id": "08c035a5",
   "metadata": {},
   "source": [
    "### 데이터프레임에 함수 적용하기"
   ]
  },
  {
   "cell_type": "code",
   "execution_count": 42,
   "id": "975f9910",
   "metadata": {},
   "outputs": [
    {
     "name": "stdout",
     "output_type": "stream",
     "text": [
      "    a   b\n",
      "0  10  20\n",
      "1  20  30\n",
      "2  30  40\n"
     ]
    }
   ],
   "source": [
    "df = pd.DataFrame({\"a\": [10, 20, 30],   # DataFrame 다시 생성\n",
    "                   \"b\": [20, 30, 40]})\n",
    "print(df)  # 출력"
   ]
  },
  {
   "cell_type": "code",
   "execution_count": 43,
   "id": "ef66836b",
   "metadata": {},
   "outputs": [],
   "source": [
    "def print_me(x):  # 각 열 또는 행을 그대로 출력하는 함수\n",
    "    print(x)"
   ]
  },
  {
   "cell_type": "markdown",
   "id": "ee8863c0",
   "metadata": {},
   "source": [
    "#### [Do It! 실습] 열 단위로 함수 적용하기"
   ]
  },
  {
   "cell_type": "code",
   "execution_count": 44,
   "id": "02963ba8",
   "metadata": {},
   "outputs": [
    {
     "name": "stdout",
     "output_type": "stream",
     "text": [
      "0    10\n",
      "1    20\n",
      "2    30\n",
      "Name: a, dtype: int64\n",
      "0    20\n",
      "1    30\n",
      "2    40\n",
      "Name: b, dtype: int64\n"
     ]
    },
    {
     "data": {
      "text/plain": [
       "a    None\n",
       "b    None\n",
       "dtype: object"
      ]
     },
     "execution_count": 44,
     "metadata": {},
     "output_type": "execute_result"
    }
   ],
   "source": [
    "df.apply(print_me, axis=0)  # 각 열에 대해 print_me 적용 (axis=0: 열 기준)"
   ]
  },
  {
   "cell_type": "code",
   "execution_count": 45,
   "id": "cb7913df",
   "metadata": {},
   "outputs": [
    {
     "name": "stdout",
     "output_type": "stream",
     "text": [
      "0    10\n",
      "1    20\n",
      "2    30\n",
      "Name: a, dtype: int64\n"
     ]
    }
   ],
   "source": [
    "print(df['a'])  # 'a' 열 출력"
   ]
  },
  {
   "cell_type": "code",
   "execution_count": 46,
   "id": "6b32c69c",
   "metadata": {},
   "outputs": [
    {
     "name": "stdout",
     "output_type": "stream",
     "text": [
      "0    20\n",
      "1    30\n",
      "2    40\n",
      "Name: b, dtype: int64\n"
     ]
    }
   ],
   "source": [
    "print(df['b'])  # 'b' 열 출력"
   ]
  },
  {
   "cell_type": "code",
   "execution_count": 47,
   "id": "bd74d215",
   "metadata": {},
   "outputs": [],
   "source": [
    "def avg_3(x, y, z):  # 세 수의 평균을 구하는 함수\n",
    "    return (x + y + z) / 3"
   ]
  },
  {
   "cell_type": "code",
   "execution_count": 48,
   "id": "d0162ba8",
   "metadata": {},
   "outputs": [],
   "source": [
    "# print(df.apply(avg_3))  # 오류"
   ]
  },
  {
   "cell_type": "code",
   "execution_count": 49,
   "id": "0a9d3438",
   "metadata": {},
   "outputs": [],
   "source": [
    "def avg_3_apply(col):  # 열 기준으로 평균을 구하는 함수 (각 열의 첫 3개 원소 사용)\n",
    "    x = col[0]\n",
    "    y = col[1]\n",
    "    z = col[2]\n",
    "    return (x + y + z) / 3"
   ]
  },
  {
   "cell_type": "code",
   "execution_count": 50,
   "id": "459b91cc",
   "metadata": {},
   "outputs": [
    {
     "name": "stdout",
     "output_type": "stream",
     "text": [
      "a    20.0\n",
      "b    30.0\n",
      "dtype: float64\n"
     ]
    }
   ],
   "source": [
    "print(df.apply(avg_3_apply))  # 각 열에 대해 평균을 계산해서 출력"
   ]
  },
  {
   "cell_type": "markdown",
   "id": "4cac7313",
   "metadata": {},
   "source": [
    "#### [Do It! 실습] 행 단위로 함수 적용하기"
   ]
  },
  {
   "cell_type": "code",
   "execution_count": 51,
   "id": "90bdc6cf",
   "metadata": {},
   "outputs": [],
   "source": [
    "# print(df.apply(avg_3_apply, axis=1))  # 오류"
   ]
  },
  {
   "cell_type": "code",
   "execution_count": 52,
   "id": "8d97a4ff",
   "metadata": {},
   "outputs": [],
   "source": [
    "def avg_2_apply(row):  # 각 행에 대해 평균을 구하는 함수\n",
    "    x = row[0]\n",
    "    y = row[1]\n",
    "    return (x + y) / 2"
   ]
  },
  {
   "cell_type": "code",
   "execution_count": 53,
   "id": "9fc98c82",
   "metadata": {},
   "outputs": [
    {
     "name": "stdout",
     "output_type": "stream",
     "text": [
      "0    15.0\n",
      "1    25.0\n",
      "2    35.0\n",
      "dtype: float64\n"
     ]
    },
    {
     "name": "stderr",
     "output_type": "stream",
     "text": [
      "C:\\Users\\user\\AppData\\Local\\Temp\\ipykernel_17272\\3678049293.py:2: FutureWarning: Series.__getitem__ treating keys as positions is deprecated. In a future version, integer keys will always be treated as labels (consistent with DataFrame behavior). To access a value by position, use `ser.iloc[pos]`\n",
      "  x = row[0]\n",
      "C:\\Users\\user\\AppData\\Local\\Temp\\ipykernel_17272\\3678049293.py:3: FutureWarning: Series.__getitem__ treating keys as positions is deprecated. In a future version, integer keys will always be treated as labels (consistent with DataFrame behavior). To access a value by position, use `ser.iloc[pos]`\n",
      "  y = row[1]\n"
     ]
    }
   ],
   "source": [
    "print(df.apply(avg_2_apply, axis=1))  # 각 행에 대해 평균을 계산"
   ]
  },
  {
   "cell_type": "markdown",
   "id": "9cd5a2c2",
   "metadata": {},
   "source": [
    "## 06-3 람다 함수 사용하기 "
   ]
  },
  {
   "cell_type": "markdown",
   "id": "0d627195",
   "metadata": {},
   "source": [
    "#### [Do It! 실습] 데이터프레임에 람다 함수 사용하기"
   ]
  },
  {
   "cell_type": "code",
   "execution_count": 54,
   "id": "96f89619",
   "metadata": {},
   "outputs": [
    {
     "name": "stdout",
     "output_type": "stream",
     "text": [
      "    a   b\n",
      "0  10  20\n",
      "1  20  30\n",
      "2  30  40\n"
     ]
    }
   ],
   "source": [
    "df = pd.DataFrame({'a': [10, 20, 30],  # 새로운 DataFrame 생성\n",
    "                   'b': [20, 30, 40]})\n",
    "print(df)  # 출력"
   ]
  },
  {
   "cell_type": "code",
   "execution_count": 55,
   "id": "e10228fc",
   "metadata": {},
   "outputs": [
    {
     "name": "stdout",
     "output_type": "stream",
     "text": [
      "    a   b  a_sq\n",
      "0  10  20   100\n",
      "1  20  30   400\n",
      "2  30  40   900\n"
     ]
    }
   ],
   "source": [
    "def my_sq(x):  # 제곱하는 함수 정의\n",
    "    return x ** 2\n",
    "\n",
    "df['a_sq'] = df['a'].apply(my_sq)  # 'a' 열에 제곱 결과 추가\n",
    "print(df)  # 출력"
   ]
  },
  {
   "cell_type": "code",
   "execution_count": 56,
   "id": "8d9e0f32",
   "metadata": {},
   "outputs": [
    {
     "name": "stdout",
     "output_type": "stream",
     "text": [
      "    a   b  a_sq  a_sq_lamb\n",
      "0  10  20   100        100\n",
      "1  20  30   400        400\n",
      "2  30  40   900        900\n"
     ]
    }
   ],
   "source": [
    "df['a_sq_lamb'] = df['a'].apply(lambda x: x ** 2)  # 람다 함수로 제곱\n",
    "print(df)  # 출력"
   ]
  },
  {
   "cell_type": "markdown",
   "id": "24d20c98",
   "metadata": {},
   "source": [
    "## 06-4 벡터화된 함수 사용하기"
   ]
  },
  {
   "cell_type": "markdown",
   "id": "84e98017",
   "metadata": {},
   "source": [
    "#### [Do It! 실습] 벡터화된 함수 사용하기"
   ]
  },
  {
   "cell_type": "code",
   "execution_count": 57,
   "id": "c3daca75",
   "metadata": {},
   "outputs": [
    {
     "name": "stdout",
     "output_type": "stream",
     "text": [
      "    a   b\n",
      "0  10  20\n",
      "1  20  30\n",
      "2  30  40\n"
     ]
    }
   ],
   "source": [
    "df = pd.DataFrame({\"a\": [10, 20, 30],   # 새로운 DataFrame 생성\n",
    "                   \"b\": [20, 30, 40]})\n",
    "print(df)  # 출력"
   ]
  },
  {
   "cell_type": "code",
   "execution_count": 58,
   "id": "33412891",
   "metadata": {},
   "outputs": [],
   "source": [
    "def avg_2(x, y):  # 두 수의 평균\n",
    "    return (x + y) / 2"
   ]
  },
  {
   "cell_type": "code",
   "execution_count": 59,
   "id": "cd0c4d8f",
   "metadata": {},
   "outputs": [
    {
     "name": "stdout",
     "output_type": "stream",
     "text": [
      "0    15.0\n",
      "1    25.0\n",
      "2    35.0\n",
      "dtype: float64\n"
     ]
    }
   ],
   "source": [
    "print(avg_2(df['a'], df['b']))  # 각 열끼리 평균 계산"
   ]
  },
  {
   "cell_type": "code",
   "execution_count": 60,
   "id": "86633375",
   "metadata": {},
   "outputs": [],
   "source": [
    "import numpy as np  # numpy 불러오기\n",
    "\n",
    "def avg_2_mod(x, y):  # 특정 조건을 만족하면 NaN 반환\n",
    "    if (x == 20):\n",
    "        return(np.NaN)\n",
    "    else:\n",
    "        return (x + y) / 2"
   ]
  },
  {
   "cell_type": "code",
   "execution_count": 61,
   "id": "12e9cfd6",
   "metadata": {},
   "outputs": [],
   "source": [
    "# print(avg_2_mod(df['a'], df['b']))  # 오류: 요소 단위 연산이 아님"
   ]
  },
  {
   "cell_type": "code",
   "execution_count": 62,
   "id": "9f42888e",
   "metadata": {},
   "outputs": [
    {
     "name": "stdout",
     "output_type": "stream",
     "text": [
      "15.0\n"
     ]
    }
   ],
   "source": [
    "print(avg_2_mod(10, 20))  # 일반 함수 실행"
   ]
  },
  {
   "cell_type": "code",
   "execution_count": 63,
   "id": "27d5807b",
   "metadata": {
    "scrolled": true
   },
   "outputs": [
    {
     "ename": "AttributeError",
     "evalue": "`np.NaN` was removed in the NumPy 2.0 release. Use `np.nan` instead.",
     "output_type": "error",
     "traceback": [
      "\u001b[1;31m---------------------------------------------------------------------------\u001b[0m",
      "\u001b[1;31mAttributeError\u001b[0m                            Traceback (most recent call last)",
      "Cell \u001b[1;32mIn[63], line 1\u001b[0m\n\u001b[1;32m----> 1\u001b[0m \u001b[38;5;28mprint\u001b[39m(avg_2_mod(\u001b[38;5;241m20\u001b[39m, \u001b[38;5;241m30\u001b[39m))\n",
      "Cell \u001b[1;32mIn[60], line 5\u001b[0m, in \u001b[0;36mavg_2_mod\u001b[1;34m(x, y)\u001b[0m\n\u001b[0;32m      3\u001b[0m \u001b[38;5;28;01mdef\u001b[39;00m \u001b[38;5;21mavg_2_mod\u001b[39m(x, y):  \u001b[38;5;66;03m# 특정 조건을 만족하면 NaN 반환\u001b[39;00m\n\u001b[0;32m      4\u001b[0m     \u001b[38;5;28;01mif\u001b[39;00m (x \u001b[38;5;241m==\u001b[39m \u001b[38;5;241m20\u001b[39m):\n\u001b[1;32m----> 5\u001b[0m         \u001b[38;5;28;01mreturn\u001b[39;00m(np\u001b[38;5;241m.\u001b[39mNaN)\n\u001b[0;32m      6\u001b[0m     \u001b[38;5;28;01melse\u001b[39;00m:\n\u001b[0;32m      7\u001b[0m         \u001b[38;5;28;01mreturn\u001b[39;00m (x \u001b[38;5;241m+\u001b[39m y) \u001b[38;5;241m/\u001b[39m \u001b[38;5;241m2\u001b[39m\n",
      "File \u001b[1;32mc:\\Users\\user\\anaconda3\\envs\\py312tf2\\Lib\\site-packages\\numpy\\__init__.py:413\u001b[0m, in \u001b[0;36m__getattr__\u001b[1;34m(attr)\u001b[0m\n\u001b[0;32m    410\u001b[0m     \u001b[38;5;28;01mraise\u001b[39;00m \u001b[38;5;167;01mAttributeError\u001b[39;00m(__former_attrs__[attr], name\u001b[38;5;241m=\u001b[39m\u001b[38;5;28;01mNone\u001b[39;00m)\n\u001b[0;32m    412\u001b[0m \u001b[38;5;28;01mif\u001b[39;00m attr \u001b[38;5;129;01min\u001b[39;00m __expired_attributes__:\n\u001b[1;32m--> 413\u001b[0m     \u001b[38;5;28;01mraise\u001b[39;00m \u001b[38;5;167;01mAttributeError\u001b[39;00m(\n\u001b[0;32m    414\u001b[0m         \u001b[38;5;124mf\u001b[39m\u001b[38;5;124m\"\u001b[39m\u001b[38;5;124m`np.\u001b[39m\u001b[38;5;132;01m{\u001b[39;00mattr\u001b[38;5;132;01m}\u001b[39;00m\u001b[38;5;124m` was removed in the NumPy 2.0 release. \u001b[39m\u001b[38;5;124m\"\u001b[39m\n\u001b[0;32m    415\u001b[0m         \u001b[38;5;124mf\u001b[39m\u001b[38;5;124m\"\u001b[39m\u001b[38;5;132;01m{\u001b[39;00m__expired_attributes__[attr]\u001b[38;5;132;01m}\u001b[39;00m\u001b[38;5;124m\"\u001b[39m,\n\u001b[0;32m    416\u001b[0m         name\u001b[38;5;241m=\u001b[39m\u001b[38;5;28;01mNone\u001b[39;00m\n\u001b[0;32m    417\u001b[0m     )\n\u001b[0;32m    419\u001b[0m \u001b[38;5;28;01mif\u001b[39;00m attr \u001b[38;5;241m==\u001b[39m \u001b[38;5;124m\"\u001b[39m\u001b[38;5;124mchararray\u001b[39m\u001b[38;5;124m\"\u001b[39m:\n\u001b[0;32m    420\u001b[0m     warnings\u001b[38;5;241m.\u001b[39mwarn(\n\u001b[0;32m    421\u001b[0m         \u001b[38;5;124m\"\u001b[39m\u001b[38;5;124m`np.chararray` is deprecated and will be removed from \u001b[39m\u001b[38;5;124m\"\u001b[39m\n\u001b[0;32m    422\u001b[0m         \u001b[38;5;124m\"\u001b[39m\u001b[38;5;124mthe main namespace in the future. Use an array with a string \u001b[39m\u001b[38;5;124m\"\u001b[39m\n\u001b[0;32m    423\u001b[0m         \u001b[38;5;124m\"\u001b[39m\u001b[38;5;124mor bytes dtype instead.\u001b[39m\u001b[38;5;124m\"\u001b[39m, \u001b[38;5;167;01mDeprecationWarning\u001b[39;00m, stacklevel\u001b[38;5;241m=\u001b[39m\u001b[38;5;241m2\u001b[39m)\n",
      "\u001b[1;31mAttributeError\u001b[0m: `np.NaN` was removed in the NumPy 2.0 release. Use `np.nan` instead."
     ]
    }
   ],
   "source": [
    "print(avg_2_mod(20, 30))  # 조건 만족 → NaN 출력"
   ]
  },
  {
   "cell_type": "markdown",
   "id": "e0ec9d9b",
   "metadata": {},
   "source": [
    "### 넘파이와 넘바로 벡터화하기"
   ]
  },
  {
   "cell_type": "markdown",
   "id": "c8968f34",
   "metadata": {},
   "source": [
    "#### [Do It! 실습] 넘파이로 벡터화하기"
   ]
  },
  {
   "cell_type": "code",
   "execution_count": null,
   "id": "3e61e390",
   "metadata": {},
   "outputs": [],
   "source": [
    "import numpy as np  # numpy 재불러오기 (중복 가능)\n",
    "\n",
    "avg_2_mod_vec = np.vectorize(avg_2_mod)  # numpy의 vectorize로 벡터화"
   ]
  },
  {
   "cell_type": "code",
   "execution_count": null,
   "id": "2f9776c4",
   "metadata": {},
   "outputs": [],
   "source": [
    "print(avg_2_mod_vec(df['a'], df['b']))  # 벡터화 함수로 각 요소 연산"
   ]
  },
  {
   "cell_type": "code",
   "execution_count": null,
   "id": "4fec5510",
   "metadata": {},
   "outputs": [],
   "source": [
    "@np.vectorize\n",
    "def v_avg_2_mod(x, y):  # 데코레이터 방식 벡터화 함수\n",
    "    if (x == 20):\n",
    "        return(np.NaN)\n",
    "    else:\n",
    "        return (x + y) / 2\n",
    "\n",
    "print(v_avg_2_mod(df['a'], df['b']))  # 실행"
   ]
  },
  {
   "cell_type": "markdown",
   "id": "ffe8fe59",
   "metadata": {},
   "source": [
    "#### [Do It! 실습] 넘바로 벡터화하기"
   ]
  },
  {
   "cell_type": "code",
   "execution_count": 64,
   "id": "0511a50e",
   "metadata": {},
   "outputs": [
    {
     "ename": "ModuleNotFoundError",
     "evalue": "No module named 'numba'",
     "output_type": "error",
     "traceback": [
      "\u001b[1;31m---------------------------------------------------------------------------\u001b[0m",
      "\u001b[1;31mModuleNotFoundError\u001b[0m                       Traceback (most recent call last)",
      "Cell \u001b[1;32mIn[64], line 1\u001b[0m\n\u001b[1;32m----> 1\u001b[0m \u001b[38;5;28;01mimport\u001b[39;00m \u001b[38;5;21;01mnumba\u001b[39;00m  \u001b[38;5;66;03m# numba 불러오기\u001b[39;00m\n\u001b[0;32m      3\u001b[0m \u001b[38;5;129m@numba\u001b[39m\u001b[38;5;241m.\u001b[39mvectorize\n\u001b[0;32m      4\u001b[0m \u001b[38;5;28;01mdef\u001b[39;00m \u001b[38;5;21mv_avg_2_numba\u001b[39m(x, y):  \u001b[38;5;66;03m# numba 벡터화 함수\u001b[39;00m\n\u001b[0;32m      5\u001b[0m     \u001b[38;5;28;01mif\u001b[39;00m (\u001b[38;5;28mint\u001b[39m(x) \u001b[38;5;241m==\u001b[39m \u001b[38;5;241m20\u001b[39m):\n",
      "\u001b[1;31mModuleNotFoundError\u001b[0m: No module named 'numba'"
     ]
    }
   ],
   "source": [
    "import numba  # numba 불러오기\n",
    "\n",
    "@numba.vectorize\n",
    "def v_avg_2_numba(x, y):  # numba 벡터화 함수\n",
    "    if (int(x) == 20):\n",
    "        return(np.NaN)\n",
    "    else:\n",
    "        return (x + y) / 2"
   ]
  },
  {
   "cell_type": "code",
   "execution_count": null,
   "id": "8a70ed56",
   "metadata": {},
   "outputs": [],
   "source": [
    "# print(v_avg_2_numba(df['a'], df['b']))  # 오류: NumPy 배열로 변환 필요"
   ]
  },
  {
   "cell_type": "code",
   "execution_count": null,
   "id": "1d2a0776",
   "metadata": {},
   "outputs": [],
   "source": [
    "print(v_avg_2_numba(df['a'].values, df['b'].values))  # NumPy 배열로 넘겨서 실행"
   ]
  }
 ],
 "metadata": {
  "kernelspec": {
   "display_name": "py312tf2",
   "language": "python",
   "name": "python3"
  },
  "language_info": {
   "codemirror_mode": {
    "name": "ipython",
    "version": 3
   },
   "file_extension": ".py",
   "mimetype": "text/x-python",
   "name": "python",
   "nbconvert_exporter": "python",
   "pygments_lexer": "ipython3",
   "version": "3.12.9"
  },
  "toc": {
   "base_numbering": 1,
   "nav_menu": {},
   "number_sections": false,
   "sideBar": false,
   "skip_h1_title": false,
   "title_cell": "Table of Contents",
   "title_sidebar": "Contents",
   "toc_cell": false,
   "toc_position": {
    "height": "1098px",
    "left": "1021.87px",
    "top": "110.233px",
    "width": "212.133px"
   },
   "toc_section_display": true,
   "toc_window_display": true
  }
 },
 "nbformat": 4,
 "nbformat_minor": 5
}
